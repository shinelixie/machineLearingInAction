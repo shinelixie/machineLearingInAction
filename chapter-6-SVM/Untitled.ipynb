{
 "cells": [
  {
   "cell_type": "code",
   "execution_count": null,
   "id": "1bec47a2-2c67-4e48-9f16-e1eabc702c13",
   "metadata": {},
   "outputs": [],
   "source": [
    "\"\"\"\n",
    "SVM有很多实\n",
    "现，但是本章只关注其中最流行的一种实现，即序列最小优\n",
    "化1（Sequential Minimal Optimization，SMO）算法。在此之后，将介绍如\n",
    "何使用一种称为核函数（kernel）的方式将SVM扩展到更多数据集上。\n",
    "\"\"\"\n",
    "# 基于最大间隔分隔数据"
   ]
  }
 ],
 "metadata": {
  "kernelspec": {
   "display_name": "Python 3 (ipykernel)",
   "language": "python",
   "name": "python3"
  },
  "language_info": {
   "codemirror_mode": {
    "name": "ipython",
    "version": 3
   },
   "file_extension": ".py",
   "mimetype": "text/x-python",
   "name": "python",
   "nbconvert_exporter": "python",
   "pygments_lexer": "ipython3",
   "version": "3.10.18"
  }
 },
 "nbformat": 4,
 "nbformat_minor": 5
}
