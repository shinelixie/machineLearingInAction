{
 "cells": [
  {
   "cell_type": "code",
   "execution_count": 29,
   "id": "ee3c9683-a217-465b-a7f0-1b0a4c4a6119",
   "metadata": {},
   "outputs": [],
   "source": [
    "\"\"\"\n",
    "决策树\n",
    "优点：计算复杂度不高，输出结果易于理解，对中间值的缺失不敏感，\n",
    "可以处理不相关特征数据。\n",
    "缺点：可能会产生过度匹配问题。\n",
    "适用数据类型：数值型和标称型。\n",
    "\"\"\"\n",
    "\n",
    "# 当前数据集上哪个特征在划分数据分类时起决定性作用。为了找到决定性的特征，划分出最好的结果\n",
    "\n",
    "\"\"\"\n",
    "决策树的一般流程\n",
    "1. 收集数据：可以使用任何方法。\n",
    "2. 准备数据：树构造算法只适用于标称型数据，因此数值型数据必须\n",
    "离散化。\n",
    "3. 分析数据：可以使用任何方法，构造树完成之后，我们应该检查图\n",
    "形是否符合预期。\n",
    "4. 训练算法：构造树的数据结构。\n",
    "5. 测试算法：使用经验树计算错误率。\n",
    "6. 使用算法：此步骤可以适用于任何监督学习算法，而使用决策树可\n",
    "以更好地理解数据的内在含义。\n",
    "\"\"\"\n",
    "\n",
    "\"\"\"\n",
    "在划分数据集之前之后信息发生的变化称为信息增益，知道如何计算信息\n",
    "增益，我们就可以计算每个特征值划分数据集获得的信息增益，获得信息\n",
    "增益最高的特征就是最好的选择。\n",
    "\"\"\"\n",
    "from math import log\n",
    "\n",
    "def calcShannonEnt(dataSet):\n",
    "    \"\"\"\n",
    "    计算给定数据集的信息熵（香农熵）\n",
    "    参数:\n",
    "        dataSet: 数据集，最后一列是分类标签\n",
    "    返回:\n",
    "        该数据集的信息熵\n",
    "    \"\"\"\n",
    "    \n",
    "    # 获取数据集中的样本数量\n",
    "    numEntries = len(dataSet)\n",
    "    \n",
    "    # 创建一个空字典，用于统计每个分类标签出现的次数\n",
    "    labelCounts = {}\n",
    "    \n",
    "    # 遍历数据集中的每个样本\n",
    "    for featVec in dataSet:\n",
    "        # 获取当前样本的分类标签（最后一列）\n",
    "        currentLabel = featVec[-1]\n",
    "        \n",
    "        # 如果该分类标签不在字典中，则初始化为0\n",
    "        if currentLabel not in labelCounts.keys():\n",
    "            labelCounts[currentLabel] = 0\n",
    "        \n",
    "        # 对该分类标签的计数加1\n",
    "        labelCounts[currentLabel] += 1\n",
    "    \n",
    "    # 初始化信息熵为0.0\n",
    "    shannoEnt = 0.0\n",
    "    \n",
    "    # 遍历每个分类标签，计算信息熵\n",
    "    for key in labelCounts:\n",
    "        # 计算当前分类标签出现的概率\n",
    "        prob = float(labelCounts[key]) / numEntries\n",
    "        \n",
    "        # 累加计算信息熵（使用对数以2为底）\n",
    "        shannoEnt -= prob * log(prob, 2)\n",
    "    \n",
    "    # 返回最终计算的信息熵\n",
    "    return shannoEnt"
   ]
  },
  {
   "cell_type": "code",
   "execution_count": 2,
   "id": "c8af49be-598d-4b64-a246-9c8c52e6d9f3",
   "metadata": {},
   "outputs": [],
   "source": [
    "def createDataSet():\n",
    "    dataSet = [[1, 1, 'yes'],\n",
    "                [1, 1, 'yes'],\n",
    "                [1, 0, 'no'],\n",
    "                [0, 1, 'no'],\n",
    "                [0, 1, 'no']]\n",
    "    labels = ['no surfacing','flippers']\n",
    "    return dataSet, labels"
   ]
  },
  {
   "cell_type": "code",
   "execution_count": 28,
   "id": "86e94571-fa14-454d-9f3c-7adb6496ee5f",
   "metadata": {},
   "outputs": [],
   "source": [
    "myDat, labels = createDataSet()"
   ]
  },
  {
   "cell_type": "code",
   "execution_count": 4,
   "id": "9e82e650-4a25-479e-89ab-f40b496f7805",
   "metadata": {},
   "outputs": [
    {
     "data": {
      "text/plain": [
       "[[1, 1, 'yes'], [1, 1, 'yes'], [1, 0, 'no'], [0, 1, 'no'], [0, 1, 'no']]"
      ]
     },
     "execution_count": 4,
     "metadata": {},
     "output_type": "execute_result"
    }
   ],
   "source": [
    "myDat"
   ]
  },
  {
   "cell_type": "code",
   "execution_count": 5,
   "id": "a243d17f-fe5f-42f0-a2da-a967d01f7627",
   "metadata": {},
   "outputs": [
    {
     "data": {
      "text/plain": [
       "0.9709505944546686"
      ]
     },
     "execution_count": 5,
     "metadata": {},
     "output_type": "execute_result"
    }
   ],
   "source": [
    "calcShannonEnt(myDat)"
   ]
  },
  {
   "cell_type": "code",
   "execution_count": 6,
   "id": "74029194-6382-4578-86f5-2cb288c2113c",
   "metadata": {},
   "outputs": [],
   "source": [
    "myDat[0][-1] = 'maybe'"
   ]
  },
  {
   "cell_type": "code",
   "execution_count": 7,
   "id": "6737e331-4e6b-4bc0-b5f3-8843b6fccf92",
   "metadata": {},
   "outputs": [
    {
     "data": {
      "text/plain": [
       "[[1, 1, 'maybe'], [1, 1, 'yes'], [1, 0, 'no'], [0, 1, 'no'], [0, 1, 'no']]"
      ]
     },
     "execution_count": 7,
     "metadata": {},
     "output_type": "execute_result"
    }
   ],
   "source": [
    "myDat"
   ]
  },
  {
   "cell_type": "code",
   "execution_count": 8,
   "id": "cd222403-40f8-4909-9244-8d2a1980d79b",
   "metadata": {},
   "outputs": [
    {
     "data": {
      "text/plain": [
       "1.3709505944546687"
      ]
     },
     "execution_count": 8,
     "metadata": {},
     "output_type": "execute_result"
    }
   ],
   "source": [
    "calcShannonEnt(myDat)"
   ]
  },
  {
   "cell_type": "code",
   "execution_count": 31,
   "id": "02fa7ae9-c0b3-40e4-b146-159b4d143dcf",
   "metadata": {},
   "outputs": [],
   "source": [
    "\"\"\"\n",
    "另一个度量集合无序程度的方法是基尼不纯度2 （Gini impurity），简单地\n",
    "说就是从一个数据集中随机选取子项，度量其被错误分类到其他分组里的\n",
    "概率\n",
    "\n",
    "\n",
    "- 划分数据集\n",
    "分类算法除了需要测量信息\n",
    "熵，还需要划分数据集，度量划分数据集的熵，以便判断当前是否正确地\n",
    "划分了数据集。我们将对每个特征划分数据集的结果计算一次信息熵，然\n",
    "后判断按照哪个特征划分数据集是最好的划分方式。想象一个分布在二维\n",
    "空间的数据散点图，需要在数据之间划条线，将它们分成两部分\n",
    "\"\"\"\n",
    "def splitDataSet(dataSet, axis, value):\n",
    "    \"\"\"\n",
    "    按照给定特征（axis）和特征值（value）划分数据集\n",
    "    参数:\n",
    "        dataSet: 待划分的数据集（二维列表）\n",
    "        axis: 划分依据的特征列索引（从0开始）\n",
    "        value: 需要保留的特征值\n",
    "    返回:\n",
    "        划分后的子数据集（不包含axis列）\n",
    "    \"\"\"\n",
    "    \n",
    "    # 初始化返回的子数据集\n",
    "    retDataSet = []\n",
    "    \n",
    "    # 遍历数据集中的每个样本\n",
    "    for featVec in dataSet:\n",
    "        # 检查当前样本的axis列是否等于目标特征值\n",
    "        if featVec[axis] == value:\n",
    "            # 复制axis列之前的所有特征（切片操作）\n",
    "            reducedFeatVec = featVec[:axis]\n",
    "            \n",
    "            # 扩展axis列之后的所有特征（跳过axis列）\n",
    "            reducedFeatVec.extend(featVec[axis+1:])\n",
    "            \n",
    "            # 将处理后的样本添加到子数据集\n",
    "            retDataSet.append(reducedFeatVec)\n",
    "    \n",
    "    # 返回划分后的子数据集\n",
    "    return retDataSet\n"
   ]
  },
  {
   "cell_type": "code",
   "execution_count": 16,
   "id": "bcf57df7-5ae5-40b1-8dc8-93c7972e64a6",
   "metadata": {},
   "outputs": [
    {
     "data": {
      "text/plain": [
       "[[1, 1, 'maybe'], [1, 1, 'yes'], [1, 0, 'no'], [0, 1, 'no'], [0, 1, 'no']]"
      ]
     },
     "execution_count": 16,
     "metadata": {},
     "output_type": "execute_result"
    }
   ],
   "source": [
    "myDat"
   ]
  },
  {
   "cell_type": "code",
   "execution_count": 14,
   "id": "448539a5-8fd4-4dd1-9fef-4f0cd29bae36",
   "metadata": {},
   "outputs": [
    {
     "data": {
      "text/plain": [
       "[[1, 'maybe'], [1, 'yes'], [0, 'no']]"
      ]
     },
     "execution_count": 14,
     "metadata": {},
     "output_type": "execute_result"
    }
   ],
   "source": [
    "splitDataSet(myDat,0,1)  # 去除第0列， 保留第0列值为1的数据"
   ]
  },
  {
   "cell_type": "code",
   "execution_count": 15,
   "id": "867687cd-4c94-4af2-9913-44f1ffebb4b9",
   "metadata": {},
   "outputs": [
    {
     "data": {
      "text/plain": [
       "[[1, 'no'], [1, 'no']]"
      ]
     },
     "execution_count": 15,
     "metadata": {},
     "output_type": "execute_result"
    }
   ],
   "source": [
    "splitDataSet(myDat, 0,0) # 去除第0列， 保留第0列值为0的数据"
   ]
  },
  {
   "cell_type": "code",
   "execution_count": 28,
   "id": "f5fc4fac-d3b7-4093-853b-239c76f449db",
   "metadata": {},
   "outputs": [],
   "source": [
    "def chooseBestFeatureToSplit(dataSet):\n",
    "    \"\"\"\n",
    "    选择最优特征进行数据集划分（基于信息增益）\n",
    "    参数:\n",
    "        dataSet: 数据集（二维列表），最后一列是分类标签\n",
    "    返回:\n",
    "        信息增益最大的特征索引（int）\n",
    "    \"\"\"\n",
    "    \n",
    "    # 计算特征数量（减去最后一列的分类标签）\n",
    "    numFeatures = len(dataSet[0]) - 1\n",
    "    \n",
    "    # 计算整个数据集的基础信息熵（用于后续信息增益计算）\n",
    "    baseEntropy = calcShannonEnt(dataSet)\n",
    "    \n",
    "    # 初始化最佳信息增益和最佳特征索引\n",
    "    bestInfoGain = 0.0\n",
    "    bestFeature = -1  # 默认值-1表示无效索引\n",
    "    \n",
    "    # 遍历每个特征\n",
    "    for i in range(numFeatures):\n",
    "        # 获取当前特征列的所有值\n",
    "        featList = [example[i] for example in dataSet]\n",
    "        \n",
    "        # 去重，得到当前特征的唯一取值集合\n",
    "        uniqueVals = set(featList)\n",
    "        \n",
    "        # 初始化按当前特征划分后的条件熵\n",
    "        newEntropy = 0.0\n",
    "        \n",
    "        # 计算按当前特征划分后的条件熵\n",
    "        for value in uniqueVals:\n",
    "            # 划分子数据集（保留当前特征值为value的样本，并移除当前特征列）\n",
    "            subDataSet = splitDataSet(dataSet, i, value)\n",
    "            \n",
    "            # 计算子数据集占比概率\n",
    "            prob = len(subDataSet) / float(len(dataSet))\n",
    "            \n",
    "            # 累加计算条件熵\n",
    "            newEntropy += prob * calcShannonEnt(subDataSet)\n",
    "        \n",
    "        # 计算当前特征的信息增益 = 基础熵 - 条件熵\n",
    "        infoGain = baseEntropy - newEntropy\n",
    "        \n",
    "        # 更新最佳特征（选择信息增益最大的特征）\n",
    "        if infoGain > bestInfoGain:\n",
    "            bestInfoGain = infoGain\n",
    "            bestFeature = i\n",
    "    \n",
    "    # 返回最佳特征索引\n",
    "    return bestFeature"
   ]
  },
  {
   "cell_type": "code",
   "execution_count": 26,
   "id": "afe86e87-6c5b-44d0-b38f-d0c85780ac35",
   "metadata": {},
   "outputs": [
    {
     "data": {
      "text/plain": [
       "0"
      ]
     },
     "execution_count": 26,
     "metadata": {},
     "output_type": "execute_result"
    }
   ],
   "source": [
    "chooseBestFeatureToSplit(myDat)"
   ]
  },
  {
   "cell_type": "code",
   "execution_count": 19,
   "id": "7415d94e-403e-445c-9fee-17e6ceaf3154",
   "metadata": {},
   "outputs": [
    {
     "data": {
      "text/plain": [
       "[[1, 1, 'maybe'], [1, 1, 'yes'], [1, 0, 'no'], [0, 1, 'no'], [0, 1, 'no']]"
      ]
     },
     "execution_count": 19,
     "metadata": {},
     "output_type": "execute_result"
    }
   ],
   "source": [
    "myDat"
   ]
  },
  {
   "cell_type": "code",
   "execution_count": 29,
   "id": "f03c471a-e994-4e18-bb2c-b170199f70b6",
   "metadata": {},
   "outputs": [
    {
     "data": {
      "text/plain": [
       "['no surfacing', 'flippers']"
      ]
     },
     "execution_count": 29,
     "metadata": {},
     "output_type": "execute_result"
    }
   ],
   "source": [
    "labels"
   ]
  },
  {
   "cell_type": "code",
   "execution_count": 23,
   "id": "e6bbc4cd-9874-410e-a45a-fd718ad51496",
   "metadata": {},
   "outputs": [],
   "source": [
    "# 3.1.3 递归构建决策树\n",
    "\"\"\"\n",
    "程序遍历完所有划分数据集的属性，或者每个分支下\n",
    "的所有实例都具有相同的分类。如果所有实例具有相同的分类，则得到一\n",
    "个叶子节点或者终止块。任何到达叶子节点的数据必然属于叶子节点的分\n",
    "类\n",
    "\"\"\"\n",
    "def majorityCnt(classList):\n",
    "    \"\"\"\n",
    "    统计分类标签列表中出现次数最多的类别（多数表决）\n",
    "    \n",
    "    参数:\n",
    "        classList: 包含分类标签的列表（如 ['A', 'B', 'A', 'C']）\n",
    "        \n",
    "    返回:\n",
    "        出现次数最多的类别标签（如 'A'）\n",
    "    \"\"\"\n",
    "    \n",
    "    # 初始化空字典，用于统计每个类别的出现次数\n",
    "    classCount = {}\n",
    "    \n",
    "    # 遍历类别列表，统计频次\n",
    "    for vote in classList:\n",
    "        if vote not in classCount.keys():\n",
    "            classCount[vote] = 0  # 初始化新类别的计数器\n",
    "        classCount[vote] += 1     # 当前类别计数加1\n",
    "    \n",
    "    # 使用匿名函数 lambda 替代 operator.itemgetter\n",
    "    # 按字典的值（出现次数）降序排序\n",
    "    sortedClassCount = sorted(\n",
    "        classCount.items(),        # 获取 (key, value) 元组列表\n",
    "        key=lambda x: x[1],        # 按元组的第二个元素（value）排序\n",
    "        reverse=True               # 降序排列\n",
    "    )\n",
    "    \n",
    "    # 返回出现次数最多的类别（排序后第一个元组的 key）\n",
    "    return sortedClassCount[0][0]\n",
    "\n",
    "def createTree(dataSet, labels):\n",
    "    \"\"\"\n",
    "    递归构建决策树\n",
    "    参数:\n",
    "        dataSet: 训练数据集（二维列表），最后一列是分类标签\n",
    "        labels: 特征名称列表（与dataSet列对应）\n",
    "    返回:\n",
    "        决策树（嵌套字典结构）\n",
    "    \"\"\"\n",
    "    \n",
    "    # 获取数据集中所有样本的分类标签\n",
    "    classList = [example[-1] for example in dataSet]\n",
    "    \n",
    "    # 终止条件1：如果所有样本属于同一类别，直接返回该类别\n",
    "    if classList.count(classList[0]) == len(classList):\n",
    "        return classList[0]\n",
    "    \n",
    "    # 终止条件2：如果所有特征已用完，返回出现次数最多的类别\n",
    "    if len(dataSet[0]) == 1:\n",
    "        return majorityCnt(classList)\n",
    "    \n",
    "    # 选择最优划分特征的索引\n",
    "    bestFeat = chooseBestFeatureToSplit(dataSet)\n",
    "    \n",
    "    # 获取最优特征的名称\n",
    "    bestFeatLabel = labels[bestFeat]\n",
    "    \n",
    "    # 初始化决策树（以当前最优特征为根节点）\n",
    "    myTree = {bestFeatLabel: {}}\n",
    "    \n",
    "    # 从labels列表中移除已使用的特征（避免后续重复使用）\n",
    "    del(labels[bestFeat])\n",
    "    \n",
    "    # 获取当前最优特征的所有取值\n",
    "    featValues = [example[bestFeat] for example in dataSet]\n",
    "    uniqueVals = set(featValues)\n",
    "    \n",
    "    # 递归构建子树\n",
    "    for value in uniqueVals:\n",
    "        # 复制剩余的标签列表（避免修改原始labels）\n",
    "        subLabels = labels[:]\n",
    "        \n",
    "        # 递归调用：对每个特征值划分的子数据集构建子树\n",
    "        myTree[bestFeatLabel][value] = createTree(\n",
    "            splitDataSet(dataSet, bestFeat, value),  # 划分子集\n",
    "            subLabels                                 # 剩余特征标签\n",
    "        )\n",
    "    \n",
    "    # 返回构建完成的决策树\n",
    "    return myTree"
   ]
  },
  {
   "cell_type": "code",
   "execution_count": 31,
   "id": "278555b8-f5ed-479e-83c9-ed3362062956",
   "metadata": {},
   "outputs": [],
   "source": [
    "myTree = createTree(myDat,labels)"
   ]
  },
  {
   "cell_type": "code",
   "execution_count": 32,
   "id": "60d9a1e8-1c4b-412e-935c-c2b21e8534e1",
   "metadata": {},
   "outputs": [
    {
     "data": {
      "text/plain": [
       "{'no surfacing': {0: 'no', 1: {'flippers': {0: 'no', 1: 'yes'}}}}"
      ]
     },
     "execution_count": 32,
     "metadata": {},
     "output_type": "execute_result"
    }
   ],
   "source": [
    "myTree"
   ]
  },
  {
   "cell_type": "code",
   "execution_count": 38,
   "id": "a222835d-b38c-4f18-b6e7-66bb7df63fca",
   "metadata": {},
   "outputs": [],
   "source": [
    "# 3.2 在Python中使用Matplotlib注解绘制树形图\n",
    "\n",
    "import matplotlib.pyplot as plt\n",
    "\n",
    "# ❶ 定义文本框和箭头格式的样式字典\n",
    "decisionNode = dict(boxstyle=\"sawtooth\", fc=\"0.8\")  # 决策节点样式：锯齿形边框，浅灰色填充\n",
    "leafNode = dict(boxstyle=\"round4\", fc=\"0.8\")        # 叶节点样式：圆角边框，浅灰色填充\n",
    "arrow_args = dict(arrowstyle=\"<-\")                  # 箭头样式：普通箭头\n",
    "\n",
    "# ❷ 绘制带箭头的注解（节点连接线）\n",
    "def plotNode(nodeTxt, centerPt, parentPt, nodeType):\n",
    "    \"\"\"\n",
    "    绘制一个决策树节点（带箭头和文本框）\n",
    "    参数:\n",
    "        nodeTxt: 节点显示的文本\n",
    "        centerPt: 节点中心坐标（子节点位置）\n",
    "        parentPt: 父节点坐标（箭头起点）\n",
    "        nodeType: 节点样式（decisionNode或leafNode）\n",
    "    \"\"\"\n",
    "    createPlot.ax1.annotate(\n",
    "        nodeTxt, \n",
    "        xy=parentPt,                      # 箭头起点坐标\n",
    "        xycoords='axes fraction',         # 坐标使用轴比例（0~1）\n",
    "        xytext=centerPt,                  # 文本位置（子节点坐标）\n",
    "        textcoords='axes fraction',       # 文本坐标使用轴比例\n",
    "        va=\"center\",                      # 文本垂直居中\n",
    "        ha=\"center\",                      # 文本水平居中\n",
    "        bbox=nodeType,                    # 文本框样式\n",
    "        arrowprops=arrow_args             # 箭头样式\n",
    "    )\n",
    "\n",
    "def createPlot():\n",
    "    plt.rcParams['font.sans-serif'] = ['SimHei']  # 设置中文字体\n",
    "    plt.rcParams['axes.unicode_minus'] = False    # 解决负号显示问题\n",
    "    \"\"\"创建并显示一个简单的决策树示例图\"\"\"\n",
    "    fig = plt.figure(1, facecolor='white')  # 创建图形，背景白色\n",
    "    fig.clf()                              # 清空图形\n",
    "    \n",
    "    # 创建子图（111表示1行1列的第1个图）\n",
    "    createPlot.ax1 = plt.subplot(111, frameon=False)  # 无边框\n",
    "    \n",
    "    # 绘制决策节点（从(0.1,0.5)指向(0.5,0.1)）\n",
    "    plotNode('决策节点', (0.5, 0.1), (0.1, 0.5), decisionNode)\n",
    "    \n",
    "    # 绘制叶节点（从(0.3,0.8)指向(0.8,0.1)）\n",
    "    plotNode('叶节点', (0.8, 0.1), (0.3, 0.8), leafNode)\n",
    "    \n",
    "    plt.show()  # 显示图形"
   ]
  },
  {
   "cell_type": "code",
   "execution_count": 42,
   "id": "d83f47da-ba98-488d-8fb2-d2c4e5c26b8a",
   "metadata": {},
   "outputs": [
    {
     "data": {
      "image/png": "[encoded data removed]",
      "text/plain": [
       "<Figure size 640x480 with 1 Axes>"
      ]
     },
     "metadata": {},
     "output_type": "display_data"
    }
   ],
   "source": [
    "createPlot()"
   ]
  },
  {
   "cell_type": "code",
   "execution_count": 42,
   "id": "8652d118-810a-4355-a8c0-6afd2feefcb8",
   "metadata": {},
   "outputs": [],
   "source": [
    "def getNumLeafs(myTree):\n",
    "    \"\"\"\n",
    "    递归计算决策树的叶子节点数量\n",
    "    \n",
    "    参数:\n",
    "        myTree: 决策树（嵌套字典结构，如 {'feature': {0: 'A', 1: {'feature2': ...}}})\n",
    "        \n",
    "    返回:\n",
    "        叶子节点的总数\n",
    "    \"\"\"\n",
    "    numLeafs = 0\n",
    "    firstStr = next(iter(myTree))  # Python 3 兼容：获取第一个键（特征名）\n",
    "    secondDict = myTree[firstStr]  # 获取子字典\n",
    "    \n",
    "    for key in secondDict.keys():\n",
    "        # 如果子节点是字典类型，递归调用\n",
    "        if type(secondDict[key]).__name__ == 'dict':\n",
    "            numLeafs += getNumLeafs(secondDict[key])\n",
    "        else:\n",
    "            numLeafs += 1  # 当前节点是叶子节点\n",
    "    return numLeafs\n",
    "\n",
    "\n",
    "def getTreeDepth(myTree):\n",
    "    \"\"\"\n",
    "    递归计算决策树的最大深度\n",
    "    \n",
    "    参数:\n",
    "        myTree: 决策树（嵌套字典结构）\n",
    "        \n",
    "    返回:\n",
    "        树的最大深度（从根节点到最远叶子节点的层数）\n",
    "    \"\"\"\n",
    "    maxDepth = 0\n",
    "    firstStr = next(iter(myTree))  # 获取第一个键（特征名）\n",
    "    secondDict = myTree[firstStr]  # 获取子字典\n",
    "    \n",
    "    for key in secondDict.keys():\n",
    "        # 如果子节点是字典类型，递归计算深度\n",
    "        if type(secondDict[key]).__name__ == 'dict':\n",
    "            thisDepth = 1 + getTreeDepth(secondDict[key])\n",
    "        else:\n",
    "            thisDepth = 1  # 当前节点是叶子节点\n",
    "        \n",
    "        # 更新最大深度\n",
    "        if thisDepth > maxDepth:\n",
    "            maxDepth = thisDepth\n",
    "    return maxDepth"
   ]
  },
  {
   "cell_type": "code",
   "execution_count": 7,
   "id": "2f2da989-d6b2-41f4-bc4b-4f0b947da0ba",
   "metadata": {},
   "outputs": [],
   "source": [
    "def retrieveTree(i):\n",
    "    listOfTrees = [{'no surfacing': {0: 'no', 1: {'flippers': \\\n",
    "                                    {0: 'no', 1: 'yes'}}}},\n",
    "                                     {'no surfacing': {0: 'no', 1: {'flippers': \\\n",
    "                                    {0: {'head': {0: 'no', 1: 'yes'}}, 1: 'no'}}}}\n",
    "                                     ]\n",
    "    return listOfTrees[i]"
   ]
  },
  {
   "cell_type": "code",
   "execution_count": 45,
   "id": "3d753d25-637c-4e41-826a-d46e6a4d62a1",
   "metadata": {},
   "outputs": [],
   "source": [
    "myTree = retrieveTree(0)"
   ]
  },
  {
   "cell_type": "code",
   "execution_count": 46,
   "id": "1f24773b-e568-45e9-bec8-038bf11691e3",
   "metadata": {},
   "outputs": [
    {
     "data": {
      "text/plain": [
       "3"
      ]
     },
     "execution_count": 46,
     "metadata": {},
     "output_type": "execute_result"
    }
   ],
   "source": [
    "getNumLeafs(myTree)"
   ]
  },
  {
   "cell_type": "code",
   "execution_count": 47,
   "id": "5e9932a8-6f48-4cc7-b485-0497f067226c",
   "metadata": {},
   "outputs": [
    {
     "data": {
      "text/plain": [
       "2"
      ]
     },
     "execution_count": 47,
     "metadata": {},
     "output_type": "execute_result"
    }
   ],
   "source": [
    "getTreeDepth(myTree)"
   ]
  },
  {
   "cell_type": "code",
   "execution_count": 40,
   "id": "7b4ee15a-8ed1-40ca-b63b-3bbaad28c053",
   "metadata": {},
   "outputs": [],
   "source": [
    "import matplotlib.pyplot as plt\n",
    "\n",
    "# 定义节点样式（与之前代码保持一致）\n",
    "decisionNode = dict(boxstyle=\"sawtooth\", fc=\"0.8\")\n",
    "leafNode = dict(boxstyle=\"round4\", fc=\"0.8\")\n",
    "arrow_args = dict(arrowstyle=\"<-\")\n",
    "\n",
    "def plotMidText(cntrPt, parentPt, txtString):\n",
    "    \"\"\"\n",
    "    在父子节点之间的连线上绘制文本（如属性值）\n",
    "    \n",
    "    参数:\n",
    "        cntrPt:  子节点坐标\n",
    "        parentPt: 父节点坐标\n",
    "        txtString: 要显示的文本\n",
    "    \"\"\"\n",
    "    xMid = (parentPt[0] - cntrPt[0]) / 2.0 + cntrPt[0]  # 计算中点x坐标\n",
    "    yMid = (parentPt[1] - cntrPt[1]) / 2.0 + cntrPt[1]  # 计算中点y坐标\n",
    "    createPlot.ax1.text(xMid, yMid, txtString, \n",
    "                       va=\"center\", ha=\"center\", \n",
    "                       rotation=30)  # 文本旋转30度\n",
    "\n",
    "def plotTree(myTree, parentPt, nodeTxt):\n",
    "    \"\"\"\n",
    "    递归绘制决策树\n",
    "    \n",
    "    参数:\n",
    "        myTree: 决策树（字典结构）\n",
    "        parentPt: 父节点坐标\n",
    "        nodeTxt: 节点显示的文本（如属性值）\n",
    "    \"\"\"\n",
    "    # ❶ 计算当前树的叶子节点数和深度\n",
    "    numLeafs = getNumLeafs(myTree)\n",
    "    depth = getTreeDepth(myTree)\n",
    "    \n",
    "    # 获取当前节点的特征名（字典的第一个键）\n",
    "    firstStr = next(iter(myTree))  \n",
    "    \n",
    "    # 计算当前节点的绘制坐标\n",
    "    cntrPt = (plotTree.xOff + (1.0 + float(numLeafs)) / 2.0 / plotTree.totalW, \n",
    "              plotTree.yOff)\n",
    "    \n",
    "    # ❷ 在父子节点之间绘制文本（如\"是/否\"）\n",
    "    plotMidText(cntrPt, parentPt, nodeTxt)\n",
    "    \n",
    "    # 绘制当前节点（决策节点）\n",
    "    plotNode(firstStr, cntrPt, parentPt, decisionNode)\n",
    "    \n",
    "    secondDict = myTree[firstStr]  # 获取子节点字典\n",
    "    \n",
    "    # ❸ 减少y偏移量（准备绘制子节点）\n",
    "    plotTree.yOff = plotTree.yOff - 1.0 / plotTree.totalD\n",
    "    \n",
    "    # 遍历所有子节点\n",
    "    for key in secondDict.keys():\n",
    "        if type(secondDict[key]).__name__ == 'dict':\n",
    "            # 递归绘制子树\n",
    "            plotTree(secondDict[key], cntrPt, str(key))\n",
    "        else:\n",
    "            # ❹ 增加x偏移量（绘制叶子节点）\n",
    "            plotTree.xOff = plotTree.xOff + 1.0 / plotTree.totalW\n",
    "            plotNode(secondDict[key], (plotTree.xOff, plotTree.yOff), \n",
    "                    cntrPt, leafNode)\n",
    "            plotMidText((plotTree.xOff, plotTree.yOff), cntrPt, str(key))\n",
    "    \n",
    "    # 恢复y偏移量（回溯到父节点层级）\n",
    "    plotTree.yOff = plotTree.yOff + 1.0 / plotTree.totalD\n",
    "\n",
    "def createPlot(inTree):\n",
    "    \"\"\"\n",
    "    初始化并绘制决策树\n",
    "    \n",
    "    参数:\n",
    "        inTree: 决策树（字典结构）\n",
    "    \"\"\"\n",
    "    fig = plt.figure(1, facecolor='white')\n",
    "    fig.clf()  # 清空画布\n",
    "    \n",
    "    # 设置坐标轴不可见\n",
    "    axprops = dict(xticks=[], yticks=[])\n",
    "    createPlot.ax1 = plt.subplot(111, frameon=False, **axprops)\n",
    "    \n",
    "    # 初始化全局变量\n",
    "    plotTree.totalW = float(getNumLeafs(inTree))  # 树的宽度（叶子节点数）\n",
    "    plotTree.totalD = float(getTreeDepth(inTree)) # 树的深度\n",
    "    plotTree.xOff = -0.5 / plotTree.totalW       # x偏移初始值（居中调整）\n",
    "    plotTree.yOff = 1.0                          # y偏移初始值（顶部开始）\n",
    "    \n",
    "    # 从根节点开始绘制\n",
    "    plotTree(inTree, (0.5, 1.0), '')  # 根节点坐标为(0.5, 1.0)\n",
    "    \n",
    "    plt.show()"
   ]
  },
  {
   "cell_type": "code",
   "execution_count": 49,
   "id": "f7016848-8488-4764-847d-afbe8c1746ff",
   "metadata": {},
   "outputs": [
    {
     "data": {
      "image/png": "[encoded data removed]",
      "text/plain": [
       "<Figure size 640x480 with 1 Axes>"
      ]
     },
     "metadata": {},
     "output_type": "display_data"
    }
   ],
   "source": [
    "createPlot(myTree)"
   ]
  },
  {
   "cell_type": "code",
   "execution_count": 50,
   "id": "2608b7b9-f282-41d5-bdac-85df6cbc7d6a",
   "metadata": {},
   "outputs": [
    {
     "data": {
      "image/png": "[encoded data removed]",
      "text/plain": [
       "<Figure size 640x480 with 1 Axes>"
      ]
     },
     "metadata": {},
     "output_type": "display_data"
    }
   ],
   "source": [
    "myTree['no surfacing'][3]='maybe'\n",
    "createPlot(myTree)"
   ]
  },
  {
   "cell_type": "code",
   "execution_count": 51,
   "id": "c7641694-c193-4c96-a79c-f2be122b0a96",
   "metadata": {},
   "outputs": [
    {
     "data": {
      "text/plain": [
       "{'no surfacing': {0: 'no', 1: {'flippers': {0: 'no', 1: 'yes'}}, 3: 'maybe'}}"
      ]
     },
     "execution_count": 51,
     "metadata": {},
     "output_type": "execute_result"
    }
   ],
   "source": [
    "myTree"
   ]
  },
  {
   "cell_type": "code",
   "execution_count": 1,
   "id": "c5bcd91d-5304-4c47-a59a-443283188469",
   "metadata": {},
   "outputs": [],
   "source": [
    "# 3.3 测试和存储分类器\n",
    "\"\"\"\n",
    "依靠训练数据构造了决策树之后，我们可以将它用于实际数据的分类。在\n",
    "执行数据分类时，需要决策树以及用于构造树的标签向量。\n",
    "程序比较测试数据与决策树上的数值，递归执行该过程直到进入叶子节点；最后\n",
    "将测试数据定义为叶子节点所属的类型。\n",
    "\"\"\"\n",
    "def classify(inputTree, featLabels, testVec):\n",
    "    \"\"\"\n",
    "    使用决策树对测试数据进行分类\n",
    "    \n",
    "    参数:\n",
    "        inputTree: 训练好的决策树（嵌套字典结构）\n",
    "        featLabels: 特征标签列表（如 ['feature1', 'feature2']）\n",
    "        testVec: 测试数据特征值列表（如 [1, 0]）\n",
    "        \n",
    "    返回:\n",
    "        classLabel: 分类结果（字符串或数值）\n",
    "    \"\"\"\n",
    "    # 获取当前节点的特征名（决策树的第一个键）\n",
    "    firstStr = next(iter(inputTree))  # Python 3 兼容写法\n",
    "    secondDict = inputTree[firstStr]  # 获取子节点字典\n",
    "    \n",
    "    # ❶ 将特征名转换为特征在测试数据中的索引位置\n",
    "    featIndex = featLabels.index(firstStr)\n",
    "    \n",
    "    # 遍历当前特征的所有可能取值\n",
    "    for key in secondDict.keys():\n",
    "        # 如果测试数据的特征值等于当前分支的键\n",
    "        if testVec[featIndex] == key:\n",
    "            # 如果子节点是字典类型，递归进入下一层决策\n",
    "            if type(secondDict[key]).__name__ == 'dict':\n",
    "                classLabel = classify(secondDict[key], featLabels, testVec)\n",
    "            # 否则到达叶子节点，返回分类结果\n",
    "            else:\n",
    "                classLabel = secondDict[key]\n",
    "            return classLabel  # 返回最终的分类标签"
   ]
  },
  {
   "cell_type": "code",
   "execution_count": 4,
   "id": "69f353d7-4fe0-4c16-a2f4-5ee54332c94a",
   "metadata": {},
   "outputs": [],
   "source": [
    "myDat,labels=createDataSet()"
   ]
  },
  {
   "cell_type": "code",
   "execution_count": 5,
   "id": "a6fd412b-857b-4d20-b3e0-ffbd50004878",
   "metadata": {},
   "outputs": [
    {
     "data": {
      "text/plain": [
       "['no surfacing', 'flippers']"
      ]
     },
     "execution_count": 5,
     "metadata": {},
     "output_type": "execute_result"
    }
   ],
   "source": [
    "labels"
   ]
  },
  {
   "cell_type": "code",
   "execution_count": 6,
   "id": "775270b0-4cfc-462d-b549-d36bf5df9788",
   "metadata": {},
   "outputs": [
    {
     "data": {
      "text/plain": [
       "[[1, 1, 'yes'], [1, 1, 'yes'], [1, 0, 'no'], [0, 1, 'no'], [0, 1, 'no']]"
      ]
     },
     "execution_count": 6,
     "metadata": {},
     "output_type": "execute_result"
    }
   ],
   "source": [
    "myDat"
   ]
  },
  {
   "cell_type": "code",
   "execution_count": 8,
   "id": "c418b586-a2e4-4ff5-9103-70d4d3d957c5",
   "metadata": {},
   "outputs": [],
   "source": [
    "myTree=retrieveTree (0)"
   ]
  },
  {
   "cell_type": "code",
   "execution_count": 9,
   "id": "17c13bae-5eb3-48d6-9b57-a4adffb30db4",
   "metadata": {},
   "outputs": [
    {
     "data": {
      "text/plain": [
       "{'no surfacing': {0: 'no', 1: {'flippers': {0: 'no', 1: 'yes'}}}}"
      ]
     },
     "execution_count": 9,
     "metadata": {},
     "output_type": "execute_result"
    }
   ],
   "source": [
    "myTree"
   ]
  },
  {
   "cell_type": "code",
   "execution_count": 10,
   "id": "fc7439ba-181a-48c5-80da-768c9fec5104",
   "metadata": {},
   "outputs": [
    {
     "data": {
      "text/plain": [
       "'no'"
      ]
     },
     "execution_count": 10,
     "metadata": {},
     "output_type": "execute_result"
    }
   ],
   "source": [
    "classify(myTree, labels, [1, 0])"
   ]
  },
  {
   "cell_type": "code",
   "execution_count": 11,
   "id": "a6411c25-83d3-4f88-84b9-a7f66b1f0833",
   "metadata": {},
   "outputs": [
    {
     "data": {
      "text/plain": [
       "'yes'"
      ]
     },
     "execution_count": 11,
     "metadata": {},
     "output_type": "execute_result"
    }
   ],
   "source": [
    "classify(myTree, labels, [1, 1])"
   ]
  },
  {
   "cell_type": "code",
   "execution_count": 12,
   "id": "cb7ce88a-beac-4db5-85b4-02d11548b37b",
   "metadata": {},
   "outputs": [],
   "source": [
    "# 决策树的存储\n",
    "def storeTree(inputTree, filename):\n",
    "    \"\"\"\n",
    "    将决策树对象序列化并保存到指定文件中（使用 pickle 模块）\n",
    "    \n",
    "    参数:\n",
    "        inputTree: 要保存的树结构对象（通常是字典或自定义树类实例）\n",
    "        filename:  保存文件的路径和名称（字符串）\n",
    "    \"\"\"\n",
    "    import pickle  # 导入 pickle 模块，用于对象的序列化（把内存中的对象转成字节流保存到文件）\n",
    "\n",
    "    fw = open(filename, 'wb')  # 以二进制写入模式打开文件（注意：pickle 在 Python3 中必须用 'wb'，不能用 'w'）\n",
    "                               # 'w' 是文本模式，在 Python3 中会导致 TypeError\n",
    "\n",
    "    pickle.dump(inputTree, fw) # 使用 pickle 将 inputTree 对象序列化并写入文件 fw\n",
    "\n",
    "    fw.close()                 # 关闭文件，释放资源\n",
    "\n",
    "def grabTree(filename):\n",
    "    \"\"\"\n",
    "    从指定文件中加载（反序列化）之前保存的决策树对象（使用 pickle 模块）\n",
    "    \n",
    "    参数:\n",
    "        filename: 要读取的文件路径（字符串）\n",
    "    \n",
    "    返回:\n",
    "        从文件中恢复的树对象\n",
    "    \"\"\"\n",
    "    import pickle\n",
    "\n",
    "    with open(filename, 'rb') as fr:  # 自动管理文件资源，更安全\n",
    "        return pickle.load(fr)        # 直接返回加载的对象"
   ]
  },
  {
   "cell_type": "code",
   "execution_count": 13,
   "id": "09532fd6-db6c-4756-9729-33a69c2ad082",
   "metadata": {},
   "outputs": [],
   "source": [
    "storeTree(myTree, 'classifierStorage.txt')"
   ]
  },
  {
   "cell_type": "code",
   "execution_count": 14,
   "id": "9332946a-a960-44c5-8425-b4dab4f860d4",
   "metadata": {},
   "outputs": [
    {
     "data": {
      "text/plain": [
       "{'no surfacing': {0: 'no', 1: {'flippers': {0: 'no', 1: 'yes'}}}}"
      ]
     },
     "execution_count": 14,
     "metadata": {},
     "output_type": "execute_result"
    }
   ],
   "source": [
    "grabTree('classifierStorage.txt')"
   ]
  },
  {
   "cell_type": "code",
   "execution_count": 20,
   "id": "1e5418f6-a8f1-4673-b7c1-3b5fcab67daa",
   "metadata": {},
   "outputs": [
    {
     "name": "stdout",
     "output_type": "stream",
     "text": [
      "特征数据形状: (24, 5)\n"
     ]
    }
   ],
   "source": [
    "# 使用决策树预测隐形眼镜类型\n",
    "\n",
    "import numpy as np\n",
    "\n",
    "# 读取 semeion.data\n",
    "data_path = 'jupyterDir/lenses.data'\n",
    "data = np.loadtxt(data_path, usecols=range(1, 6))\n",
    "\n",
    "print(\"特征数据形状:\", data.shape)"
   ]
  },
  {
   "cell_type": "code",
   "execution_count": 17,
   "id": "eb4aaa53-f88a-456b-bae6-963584389a7d",
   "metadata": {},
   "outputs": [
    {
     "data": {
      "text/plain": [
       "array([1., 1., 1., 1., 1., 3.])"
      ]
     },
     "execution_count": 17,
     "metadata": {},
     "output_type": "execute_result"
    }
   ],
   "source": [
    "data[0]"
   ]
  },
  {
   "cell_type": "code",
   "execution_count": 18,
   "id": "95ea3d32-31ec-4337-a1b1-76eb5ca0d0c9",
   "metadata": {},
   "outputs": [
    {
     "data": {
      "text/plain": [
       "array([2., 1., 1., 1., 2., 2.])"
      ]
     },
     "execution_count": 18,
     "metadata": {},
     "output_type": "execute_result"
    }
   ],
   "source": [
    "data[1, :]"
   ]
  },
  {
   "cell_type": "code",
   "execution_count": 25,
   "id": "8c5dc779-79f8-4709-97b9-4efdca4b9563",
   "metadata": {},
   "outputs": [],
   "source": [
    "import matplotlib.pyplot as plt"
   ]
  },
  {
   "cell_type": "code",
   "execution_count": 49,
   "id": "43f2861a-f6ee-48c5-8e7f-31c5ff69fd8d",
   "metadata": {},
   "outputs": [
    {
     "name": "stdout",
     "output_type": "stream",
     "text": [
      "   age  spectacle  astigmatic  tear  class\n",
      "0  1.0        1.0         1.0   1.0    3.0\n",
      "1  1.0        1.0         1.0   2.0    2.0\n",
      "2  1.0        1.0         2.0   1.0    3.0\n",
      "3  1.0        1.0         2.0   2.0    1.0\n",
      "4  1.0        2.0         1.0   1.0    3.0\n"
     ]
    },
    {
     "data": {
      "image/png": "[encoded data removed]",
      "text/plain": [
       "<Figure size 640x480 with 1 Axes>"
      ]
     },
     "metadata": {},
     "output_type": "display_data"
    }
   ],
   "source": [
    "import pandas as pd\n",
    "# 转换为DataFrame（可选）\n",
    "df = pd.DataFrame(data, columns=['age', 'spectacle', 'astigmatic', 'tear', 'class'])\n",
    "print(df.head())\n",
    "\n",
    "# 可视化类别分布\n",
    "df['class'].value_counts().plot(kind='pie', autopct='%1.1f%%', \n",
    "                                labels=['hard', 'soft', 'none'])\n",
    "plt.title('Contact Lens Recommendation')\n",
    "plt.show()"
   ]
  },
  {
   "cell_type": "code",
   "execution_count": 50,
   "id": "160f1942-c673-4dfa-ab3f-6069d252d8b1",
   "metadata": {},
   "outputs": [
    {
     "data": {
      "text/html": [
       "<div>\n",
       "<style scoped>\n",
       "    .dataframe tbody tr th:only-of-type {\n",
       "        vertical-align: middle;\n",
       "    }\n",
       "\n",
       "    .dataframe tbody tr th {\n",
       "        vertical-align: top;\n",
       "    }\n",
       "\n",
       "    .dataframe thead th {\n",
       "        text-align: right;\n",
       "    }\n",
       "</style>\n",
       "<table border=\"1\" class=\"dataframe\">\n",
       "  <thead>\n",
       "    <tr style=\"text-align: right;\">\n",
       "      <th></th>\n",
       "      <th>age</th>\n",
       "      <th>spectacle</th>\n",
       "      <th>astigmatic</th>\n",
       "      <th>tear</th>\n",
       "      <th>class</th>\n",
       "    </tr>\n",
       "  </thead>\n",
       "  <tbody>\n",
       "    <tr>\n",
       "      <th>0</th>\n",
       "      <td>young</td>\n",
       "      <td>myope</td>\n",
       "      <td>no</td>\n",
       "      <td>reduced</td>\n",
       "      <td>no lenses</td>\n",
       "    </tr>\n",
       "    <tr>\n",
       "      <th>1</th>\n",
       "      <td>young</td>\n",
       "      <td>myope</td>\n",
       "      <td>no</td>\n",
       "      <td>normal</td>\n",
       "      <td>soft</td>\n",
       "    </tr>\n",
       "    <tr>\n",
       "      <th>2</th>\n",
       "      <td>young</td>\n",
       "      <td>myope</td>\n",
       "      <td>yes</td>\n",
       "      <td>reduced</td>\n",
       "      <td>no lenses</td>\n",
       "    </tr>\n",
       "    <tr>\n",
       "      <th>3</th>\n",
       "      <td>young</td>\n",
       "      <td>myope</td>\n",
       "      <td>yes</td>\n",
       "      <td>normal</td>\n",
       "      <td>hard</td>\n",
       "    </tr>\n",
       "    <tr>\n",
       "      <th>4</th>\n",
       "      <td>young</td>\n",
       "      <td>hypermetrope</td>\n",
       "      <td>no</td>\n",
       "      <td>reduced</td>\n",
       "      <td>no lenses</td>\n",
       "    </tr>\n",
       "    <tr>\n",
       "      <th>5</th>\n",
       "      <td>young</td>\n",
       "      <td>hypermetrope</td>\n",
       "      <td>no</td>\n",
       "      <td>normal</td>\n",
       "      <td>soft</td>\n",
       "    </tr>\n",
       "    <tr>\n",
       "      <th>6</th>\n",
       "      <td>young</td>\n",
       "      <td>hypermetrope</td>\n",
       "      <td>yes</td>\n",
       "      <td>reduced</td>\n",
       "      <td>no lenses</td>\n",
       "    </tr>\n",
       "    <tr>\n",
       "      <th>7</th>\n",
       "      <td>young</td>\n",
       "      <td>hypermetrope</td>\n",
       "      <td>yes</td>\n",
       "      <td>normal</td>\n",
       "      <td>hard</td>\n",
       "    </tr>\n",
       "    <tr>\n",
       "      <th>8</th>\n",
       "      <td>pre-presbyopic</td>\n",
       "      <td>myope</td>\n",
       "      <td>no</td>\n",
       "      <td>reduced</td>\n",
       "      <td>no lenses</td>\n",
       "    </tr>\n",
       "    <tr>\n",
       "      <th>9</th>\n",
       "      <td>pre-presbyopic</td>\n",
       "      <td>myope</td>\n",
       "      <td>no</td>\n",
       "      <td>normal</td>\n",
       "      <td>soft</td>\n",
       "    </tr>\n",
       "    <tr>\n",
       "      <th>10</th>\n",
       "      <td>pre-presbyopic</td>\n",
       "      <td>myope</td>\n",
       "      <td>yes</td>\n",
       "      <td>reduced</td>\n",
       "      <td>no lenses</td>\n",
       "    </tr>\n",
       "    <tr>\n",
       "      <th>11</th>\n",
       "      <td>pre-presbyopic</td>\n",
       "      <td>myope</td>\n",
       "      <td>yes</td>\n",
       "      <td>normal</td>\n",
       "      <td>hard</td>\n",
       "    </tr>\n",
       "    <tr>\n",
       "      <th>12</th>\n",
       "      <td>pre-presbyopic</td>\n",
       "      <td>hypermetrope</td>\n",
       "      <td>no</td>\n",
       "      <td>reduced</td>\n",
       "      <td>no lenses</td>\n",
       "    </tr>\n",
       "    <tr>\n",
       "      <th>13</th>\n",
       "      <td>pre-presbyopic</td>\n",
       "      <td>hypermetrope</td>\n",
       "      <td>no</td>\n",
       "      <td>normal</td>\n",
       "      <td>soft</td>\n",
       "    </tr>\n",
       "    <tr>\n",
       "      <th>14</th>\n",
       "      <td>pre-presbyopic</td>\n",
       "      <td>hypermetrope</td>\n",
       "      <td>yes</td>\n",
       "      <td>reduced</td>\n",
       "      <td>no lenses</td>\n",
       "    </tr>\n",
       "    <tr>\n",
       "      <th>15</th>\n",
       "      <td>pre-presbyopic</td>\n",
       "      <td>hypermetrope</td>\n",
       "      <td>yes</td>\n",
       "      <td>normal</td>\n",
       "      <td>no lenses</td>\n",
       "    </tr>\n",
       "    <tr>\n",
       "      <th>16</th>\n",
       "      <td>presbyopic</td>\n",
       "      <td>myope</td>\n",
       "      <td>no</td>\n",
       "      <td>reduced</td>\n",
       "      <td>no lenses</td>\n",
       "    </tr>\n",
       "    <tr>\n",
       "      <th>17</th>\n",
       "      <td>presbyopic</td>\n",
       "      <td>myope</td>\n",
       "      <td>no</td>\n",
       "      <td>normal</td>\n",
       "      <td>no lenses</td>\n",
       "    </tr>\n",
       "    <tr>\n",
       "      <th>18</th>\n",
       "      <td>presbyopic</td>\n",
       "      <td>myope</td>\n",
       "      <td>yes</td>\n",
       "      <td>reduced</td>\n",
       "      <td>no lenses</td>\n",
       "    </tr>\n",
       "    <tr>\n",
       "      <th>19</th>\n",
       "      <td>presbyopic</td>\n",
       "      <td>myope</td>\n",
       "      <td>yes</td>\n",
       "      <td>normal</td>\n",
       "      <td>hard</td>\n",
       "    </tr>\n",
       "    <tr>\n",
       "      <th>20</th>\n",
       "      <td>presbyopic</td>\n",
       "      <td>hypermetrope</td>\n",
       "      <td>no</td>\n",
       "      <td>reduced</td>\n",
       "      <td>no lenses</td>\n",
       "    </tr>\n",
       "    <tr>\n",
       "      <th>21</th>\n",
       "      <td>presbyopic</td>\n",
       "      <td>hypermetrope</td>\n",
       "      <td>no</td>\n",
       "      <td>normal</td>\n",
       "      <td>soft</td>\n",
       "    </tr>\n",
       "    <tr>\n",
       "      <th>22</th>\n",
       "      <td>presbyopic</td>\n",
       "      <td>hypermetrope</td>\n",
       "      <td>yes</td>\n",
       "      <td>reduced</td>\n",
       "      <td>no lenses</td>\n",
       "    </tr>\n",
       "    <tr>\n",
       "      <th>23</th>\n",
       "      <td>presbyopic</td>\n",
       "      <td>hypermetrope</td>\n",
       "      <td>yes</td>\n",
       "      <td>normal</td>\n",
       "      <td>no lenses</td>\n",
       "    </tr>\n",
       "  </tbody>\n",
       "</table>\n",
       "</div>"
      ],
      "text/plain": [
       "               age     spectacle astigmatic     tear      class\n",
       "0            young         myope         no  reduced  no lenses\n",
       "1            young         myope         no   normal       soft\n",
       "2            young         myope        yes  reduced  no lenses\n",
       "3            young         myope        yes   normal       hard\n",
       "4            young  hypermetrope         no  reduced  no lenses\n",
       "5            young  hypermetrope         no   normal       soft\n",
       "6            young  hypermetrope        yes  reduced  no lenses\n",
       "7            young  hypermetrope        yes   normal       hard\n",
       "8   pre-presbyopic         myope         no  reduced  no lenses\n",
       "9   pre-presbyopic         myope         no   normal       soft\n",
       "10  pre-presbyopic         myope        yes  reduced  no lenses\n",
       "11  pre-presbyopic         myope        yes   normal       hard\n",
       "12  pre-presbyopic  hypermetrope         no  reduced  no lenses\n",
       "13  pre-presbyopic  hypermetrope         no   normal       soft\n",
       "14  pre-presbyopic  hypermetrope        yes  reduced  no lenses\n",
       "15  pre-presbyopic  hypermetrope        yes   normal  no lenses\n",
       "16      presbyopic         myope         no  reduced  no lenses\n",
       "17      presbyopic         myope         no   normal  no lenses\n",
       "18      presbyopic         myope        yes  reduced  no lenses\n",
       "19      presbyopic         myope        yes   normal       hard\n",
       "20      presbyopic  hypermetrope         no  reduced  no lenses\n",
       "21      presbyopic  hypermetrope         no   normal       soft\n",
       "22      presbyopic  hypermetrope        yes  reduced  no lenses\n",
       "23      presbyopic  hypermetrope        yes   normal  no lenses"
      ]
     },
     "execution_count": 50,
     "metadata": {},
     "output_type": "execute_result"
    }
   ],
   "source": [
    "# 将数值标签转为文本（可选）\n",
    "df['class'] = df['class'].map({1: 'hard', 2: 'soft', 3: 'no lenses'})\n",
    "df['age'] = df['age'].map({1: 'young', 2: 'pre-presbyopic', 3: 'presbyopic'})\n",
    "df['spectacle'] = df['spectacle'].map({1: 'myope', 2: 'hypermetrope'})\n",
    "df['astigmatic'] = df['astigmatic'].map({1: 'no', 2: 'yes'})\n",
    "df['tear'] = df['tear'].map({1: 'reduced', 2: 'normal'})\n",
    "df"
   ]
  },
  {
   "cell_type": "code",
   "execution_count": 51,
   "id": "38d261f0-ec3c-4e7f-a3ce-f7e16029955f",
   "metadata": {},
   "outputs": [],
   "source": [
    "lensesLabels=['age', 'prescript', 'astigmatic', 'tearRate']\n",
    "lensesTree = createTree(df.to_numpy().tolist(),lensesLabels)"
   ]
  },
  {
   "cell_type": "code",
   "execution_count": 52,
   "id": "9bffcd5d-1c1f-43ab-a78b-a90cab5be660",
   "metadata": {},
   "outputs": [
    {
     "data": {
      "text/plain": [
       "{'tearRate': {'reduced': 'no lenses',\n",
       "  'normal': {'astigmatic': {'yes': {'prescript': {'myope': 'hard',\n",
       "      'hypermetrope': {'age': {'young': 'hard',\n",
       "        'pre-presbyopic': 'no lenses',\n",
       "        'presbyopic': 'no lenses'}}}},\n",
       "    'no': {'age': {'young': 'soft',\n",
       "      'pre-presbyopic': 'soft',\n",
       "      'presbyopic': {'prescript': {'myope': 'no lenses',\n",
       "        'hypermetrope': 'soft'}}}}}}}}"
      ]
     },
     "execution_count": 52,
     "metadata": {},
     "output_type": "execute_result"
    }
   ],
   "source": [
    "lensesTree"
   ]
  },
  {
   "cell_type": "code",
   "execution_count": 53,
   "id": "ff325bb8-8573-4d51-a110-19aeb09344ad",
   "metadata": {},
   "outputs": [
    {
     "data": {
      "image/png": "[encoded data removed]",
      "text/plain": [
       "<Figure size 640x480 with 1 Axes>"
      ]
     },
     "metadata": {},
     "output_type": "display_data"
    }
   ],
   "source": [
    "createPlot(lensesTree)"
   ]
  },
  {
   "cell_type": "code",
   "execution_count": null,
   "id": "3fe4e1b6-636a-4c10-bc6a-5a2cc42460e2",
   "metadata": {},
   "outputs": [],
   "source": [
    "\"\"\"\n",
    "ID3算法无法直接处理数值型数据，尽管我们\n",
    "可以通过量化的方法将数值型数据转化为标称型数值，但是如果存在太多\n",
    "的特征划分，ID3算法仍然会面临其他问题。\n",
    "为了减少过度匹配问\n",
    "题，我们可以裁剪决策树，去掉一些不必要的叶子节点。如果叶子节点只\n",
    "能增加少许信息，则可以删除该节点，将它并入到其他叶子节点中。\n",
    "\"\"\""
   ]
  }
 ],
 "metadata": {
  "kernelspec": {
   "display_name": "Python 3 (ipykernel)",
   "language": "python",
   "name": "python3"
  },
  "language_info": {
   "codemirror_mode": {
    "name": "ipython",
    "version": 3
   },
   "file_extension": ".py",
   "mimetype": "text/x-python",
   "name": "python",
   "nbconvert_exporter": "python",
   "pygments_lexer": "ipython3",
   "version": "3.10.18"
  }
 },
 "nbformat": 4,
 "nbformat_minor": 5
}
