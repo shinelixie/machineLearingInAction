{
 "cells": [
  {
   "cell_type": "code",
   "execution_count": null,
   "id": "49fe9cb7-c7d0-4482-b345-bed03e0370ac",
   "metadata": {},
   "outputs": [],
   "source": [
    "# k近邻算法采用测量不同特征值之间的距离方法进行分类。\n",
    "\"\"\"\n",
    "k-近邻算法\n",
    "优点：精度高、对异常值不敏感、无数据输入假定。\n",
    "缺点：计算复杂度高、空间复杂度高。 适用数据范围：数值型和标称\n",
    "型。\n",
    "本书讲解的第一个机器学习算法是k-近邻算法（kNN)，它的工作原理是：\n",
    "存在一个样本数据集合，也称作训练样本集，并且样本集中每个数据都存\n",
    "在标签，即我们知道样本集中每一数据与所属分类的对应关系。输入没有\n",
    "标签的新数据后，将新数据的每个特征与样本集中数据对应的特征进行比\n",
    "较，然后算法提取样本集中特征最相似数据（最近邻）的分类标签。一般\n",
    "来说，我们只选择样本数据集中前k个最相似的数据，这就是k-近邻算法中\n",
    "k的出处，通常k是不大于20的整数。最后，选择k个最相似数据中出现次数\n",
    "最多的分类，作为新数据的分类。\n",
    "\n",
    "k近邻算法的一般流程\n",
    "1. 收集数据：可以使用任何方法。\n",
    "2. 准备数据：距离计算所需要的数值，最好是结构化的数据格式。\n",
    "3. 分析数据：可以使用任何方法。\n",
    "4. 训练算法：此步骤不适用于k近邻算法。\n",
    "5. 测试算法：计算错误率。\n",
    "6. 使用算法：首先需要输入样本数据和结构化的输出结果，然后运行k\n",
    "近邻算法判定输入数据分别属于哪个分类，最后应用对计算出的分\n",
    "类执行后续的处理。\n",
    "\"\"\""
   ]
  },
  {
   "cell_type": "code",
   "execution_count": 26,
   "id": "19b3f6e2-2963-4fc8-b00a-6f10b5faf88b",
   "metadata": {},
   "outputs": [],
   "source": [
    "from numpy import tile\n",
    "import operator\n",
    "\n",
    "def createDataSet():\n",
    "    group = array([\n",
    "        [1.0, 1.1],\n",
    "        [1.0, 1.0],\n",
    "        [0,0],\n",
    "        [0, 0.1]\n",
    "    ])\n",
    "    labels = ['A','A','B','B']\n",
    "    return group, labels"
   ]
  },
  {
   "cell_type": "code",
   "execution_count": 4,
   "id": "f561081c-cf62-444d-a7cc-93a9cb489cea",
   "metadata": {},
   "outputs": [],
   "source": [
    "groups, labels = createDataSet()"
   ]
  },
  {
   "cell_type": "code",
   "execution_count": 5,
   "id": "b815436f-ee8c-4089-b6d8-2615a8e510da",
   "metadata": {},
   "outputs": [
    {
     "data": {
      "text/plain": [
       "array([[1. , 1.1],\n",
       "       [1. , 1. ],\n",
       "       [0. , 0. ],\n",
       "       [0. , 0.1]])"
      ]
     },
     "execution_count": 5,
     "metadata": {},
     "output_type": "execute_result"
    }
   ],
   "source": [
    "groups"
   ]
  },
  {
   "cell_type": "code",
   "execution_count": 6,
   "id": "63afe175-63f1-45d1-b996-2896204f1e7c",
   "metadata": {},
   "outputs": [
    {
     "data": {
      "text/plain": [
       "['A', 'A', 'B', 'B']"
      ]
     },
     "execution_count": 6,
     "metadata": {},
     "output_type": "execute_result"
    }
   ],
   "source": [
    "labels"
   ]
  },
  {
   "cell_type": "code",
   "execution_count": 10,
   "id": "514d7bb0-cf3e-4eac-8b2d-60222c78bfb7",
   "metadata": {},
   "outputs": [],
   "source": [
    "import matplotlib.pyplot as plt\n",
    "%matplotlib inline"
   ]
  },
  {
   "cell_type": "code",
   "execution_count": 12,
   "id": "bbc80571-90ca-4f45-a22b-7d5ae1f28477",
   "metadata": {},
   "outputs": [],
   "source": [
    "plt.rcParams['font.sans-serif'] = ['SimHei']  # 指定默认字体为黑体\n",
    "plt.rcParams['axes.unicode_minus'] = False    # 解决负号显示问题"
   ]
  },
  {
   "cell_type": "code",
   "execution_count": 13,
   "id": "7326c946-70ca-4cdf-9af6-64473b9fa292",
   "metadata": {},
   "outputs": [
    {
     "data": {
      "image/png": "[encoded data removed]",
      "text/plain": [
       "<Figure size 800x600 with 1 Axes>"
      ]
     },
     "metadata": {},
     "output_type": "display_data"
    }
   ],
   "source": [
    "# 提取 x 和 y 坐标\n",
    "x = groups[:, 0]  # 所有行的第1列（x坐标）\n",
    "y = groups[:, 1]  # 所有行的第2列（y坐标）\n",
    "\n",
    "# 创建图形\n",
    "plt.figure(figsize=(8, 6))\n",
    "plt.scatter(x, y, c=['red' if label == 'A' else 'blue' for label in labels], s=100)  # 按标签着色\n",
    "plt.xlabel('X 坐标', fontsize=12)\n",
    "plt.ylabel('Y 坐标', fontsize=12)\n",
    "plt.title('二维数据集可视化 (A vs B)', fontsize=14)\n",
    "plt.grid(True)\n",
    "\n",
    "# 添加标签注释\n",
    "for i, (xi, yi) in enumerate(zip(x, y)):\n",
    "    plt.text(xi + 0.02, yi + 0.02, labels[i], fontsize=12)  # 避免文字重叠\n",
    "\n",
    "plt.show()"
   ]
  },
  {
   "cell_type": "code",
   "execution_count": 19,
   "id": "cb50c00b-07e7-4cac-8c6c-c9f519a75662",
   "metadata": {},
   "outputs": [
    {
     "name": "stdout",
     "output_type": "stream",
     "text": [
      "[[1.  1.1]\n",
      " [1.  1. ]\n",
      " [0.  0. ]\n",
      " [0.  0.1]] ['A', 'A', 'B', 'B']\n"
     ]
    }
   ],
   "source": [
    "print(groups, labels)"
   ]
  },
  {
   "cell_type": "code",
   "execution_count": 13,
   "id": "7fa18bc0-4753-4104-9de1-f4c4b8e0ba11",
   "metadata": {},
   "outputs": [],
   "source": [
    "\"\"\"\n",
    "近邻算法（K-Nearest Neighbors, KNN）\n",
    "对未知类别属性的数据集中的每个点依次执行以下操作：\n",
    "1. 计算已知类别数据集中的点与当前点之间的距离；\n",
    "2. 按照距离递增次序排序；\n",
    "3. 选取与当前点距离最小的k个点；\n",
    "4. 确定前k个点所在类别的出现频率；\n",
    "5. 返回前k个点出现频率最高的类别作为当前点的预测分类。\n",
    "\"\"\"\n",
    "def classify0(inX, dataSet, labels, k):\n",
    "    \"\"\"\n",
    "    参数:\n",
    "    - inX: 待分类的输入向量（列数需与dataSet一致）\n",
    "    - dataSet: 已知类别的训练数据集（NumPy数组，每行是一个样本）\n",
    "    - labels: 训练数据对应的类别标签（列表或数组）\n",
    "    - k: 近邻算法的k值（选择最近邻的数量）\n",
    "    \n",
    "    返回:\n",
    "    - 输入向量inX的预测类别\n",
    "    \"\"\"\n",
    "    \n",
    "    # 1. 计算距离\n",
    "    dataSetSize = dataSet.shape[0]  # 获取训练集的样本数量\n",
    "    \n",
    "    # 将输入向量inX复制成与dataSet相同行数的矩阵，方便批量计算\n",
    "    diffMat = tile(inX, (dataSetSize, 1)) - dataSet  # 计算坐标差值\n",
    "    \n",
    "    sqDiffMat = diffMat ** 2  # 差值平方\n",
    "    sqDistances = sqDiffMat.sum(axis=1)  # 按行求和（欧氏距离的平方）\n",
    "    distances = sqDistances ** 0.5  # 开平方得到真实欧氏距离\n",
    "    \n",
    "    # 2. 按距离从小到大排序，返回的是索引值（不是距离值本身）\n",
    "    sortedDistIndices = distances.argsort()  \n",
    "    \n",
    "    # 3. 统计前k个最近邻的类别\n",
    "    classCount = {}  # 用字典记录类别及其出现次数\n",
    "    \n",
    "    for i in range(k):  # 遍历前k个最近邻\n",
    "        voteIlabel = labels[sortedDistIndices[i]]  # 获取当前近邻的类别标签\n",
    "        # 更新字典：如果键不存在则初始化为0，然后+1\n",
    "        classCount[voteIlabel] = classCount.get(voteIlabel, 0) + 1  \n",
    "\n",
    "    # 4. 按出现频率从高到低排序\n",
    "    sortedClassCount = sorted(\n",
    "        classCount.items(),  # 字典的键值对转为元组列表\n",
    "        key=lambda x: x[1],  # 按每个元组的第二个元素（即次数）排序\n",
    "        reverse=True         # 降序排列\n",
    "    )\n",
    "    \n",
    "    # 5. 返回频率最高的类别\n",
    "    return sortedClassCount[0][0]  # 第一个元组的第一个元素（类别名）"
   ]
  },
  {
   "cell_type": "code",
   "execution_count": 29,
   "id": "fabf5119-a35e-4c46-86df-5316c288fc7f",
   "metadata": {},
   "outputs": [
    {
     "name": "stdout",
     "output_type": "stream",
     "text": [
      "{'B': 2, 'A': 1}\n"
     ]
    },
    {
     "data": {
      "text/plain": [
       "'B'"
      ]
     },
     "execution_count": 29,
     "metadata": {},
     "output_type": "execute_result"
    }
   ],
   "source": [
    "classify0([0,0], groups, labels, 3)"
   ]
  },
  {
   "cell_type": "code",
   "execution_count": 24,
   "id": "03f4866e-7dea-48f0-8ddd-e2eb8eec07e0",
   "metadata": {},
   "outputs": [
    {
     "data": {
      "text/plain": [
       "array([2, 3, 1, 0])"
      ]
     },
     "execution_count": 24,
     "metadata": {},
     "output_type": "execute_result"
    }
   ],
   "source": [
    "(((tile([0,0], (4, 1)) - groups) ** 2).sum(axis=1) ** 0.5).argsort()"
   ]
  },
  {
   "cell_type": "code",
   "execution_count": 25,
   "id": "80fcbcdd-7dce-403f-8170-85c56e09cccd",
   "metadata": {},
   "outputs": [
    {
     "data": {
      "text/plain": [
       "array([1.48660687, 1.41421356, 0.        , 0.1       ])"
      ]
     },
     "execution_count": 25,
     "metadata": {},
     "output_type": "execute_result"
    }
   ],
   "source": [
    "((tile([0,0], (4, 1)) - groups) ** 2).sum(axis=1) ** 0.5"
   ]
  },
  {
   "cell_type": "code",
   "execution_count": 36,
   "id": "5e8359c5-eb02-48dc-9848-21b8f4c4755e",
   "metadata": {},
   "outputs": [],
   "source": [
    "\"\"\"\n",
    "示例：在约会网站上使用k近邻算法\n",
    "1. 收集数据：提供文本文件。\n",
    "2. 准备数据：使用Python解析文本文件。\n",
    "3. 分析数据：使用Matplotlib画二维扩散图。\n",
    "4. 训练算法：此步骤不适用于k近邻算法。\n",
    "5. 测试算法：使用海伦提供的部分数据作为测试样本。\n",
    "测试样本和非测试样本的区别在于：测试样本是已经完成分类的数\n",
    "据，如果预测分类与实际类别不同，则标记为一个错误。\n",
    "6. 使用算法：产生简单的命令行程序，然后海伦可以输入一些特征数\n",
    "据以判断对方是否为自己喜欢的类型\n",
    "\"\"\"\n",
    "import numpy as np\n",
    "import pandas as pd\n",
    "# 随机生成100条约会网站数据\n",
    "np.random.seed(42)\n",
    "data_size = 1000\n",
    "\n",
    "# 特征1：每年飞行里程（0-10万公里）\n",
    "flight_miles = np.random.randint(0, 100000, size=data_size)\n",
    "\n",
    "# 特征2：每周游戏时间占比（0-100%）\n",
    "game_percent = np.random.randint(0, 100, size=data_size)\n",
    "\n",
    "# 特征3：每周冰淇淋消费（0-20升）\n",
    "ice_cream = np.random.randint(0, 20, size=data_size)\n",
    "\n",
    "# 标签：1（不喜欢）、2（一般喜欢）、3（非常喜欢）\n",
    "labels = np.random.choice([0, 1, 3], size=data_size, p=[0.3, 0.5, 0.2])\n",
    "\n",
    "# 合并为DataFrame\n",
    "dating_data = pd.DataFrame({\n",
    "    '飞行里程': flight_miles,\n",
    "    '游戏时间占比': game_percent,\n",
    "    '冰淇淋消费': ice_cream,\n",
    "    '喜欢程度': labels\n",
    "})"
   ]
  },
  {
   "cell_type": "code",
   "execution_count": 37,
   "id": "a5314b89-60f6-43e2-88c9-1cdff3c88867",
   "metadata": {},
   "outputs": [
    {
     "data": {
      "text/html": [
       "<div>\n",
       "<style scoped>\n",
       "    .dataframe tbody tr th:only-of-type {\n",
       "        vertical-align: middle;\n",
       "    }\n",
       "\n",
       "    .dataframe tbody tr th {\n",
       "        vertical-align: top;\n",
       "    }\n",
       "\n",
       "    .dataframe thead th {\n",
       "        text-align: right;\n",
       "    }\n",
       "</style>\n",
       "<table border=\"1\" class=\"dataframe\">\n",
       "  <thead>\n",
       "    <tr style=\"text-align: right;\">\n",
       "      <th></th>\n",
       "      <th>飞行里程</th>\n",
       "      <th>游戏时间占比</th>\n",
       "      <th>冰淇淋消费</th>\n",
       "      <th>喜欢程度</th>\n",
       "    </tr>\n",
       "  </thead>\n",
       "  <tbody>\n",
       "    <tr>\n",
       "      <th>0</th>\n",
       "      <td>15795</td>\n",
       "      <td>63</td>\n",
       "      <td>0</td>\n",
       "      <td>0</td>\n",
       "    </tr>\n",
       "    <tr>\n",
       "      <th>1</th>\n",
       "      <td>860</td>\n",
       "      <td>97</td>\n",
       "      <td>9</td>\n",
       "      <td>1</td>\n",
       "    </tr>\n",
       "    <tr>\n",
       "      <th>2</th>\n",
       "      <td>76820</td>\n",
       "      <td>58</td>\n",
       "      <td>7</td>\n",
       "      <td>3</td>\n",
       "    </tr>\n",
       "    <tr>\n",
       "      <th>3</th>\n",
       "      <td>54886</td>\n",
       "      <td>55</td>\n",
       "      <td>17</td>\n",
       "      <td>1</td>\n",
       "    </tr>\n",
       "    <tr>\n",
       "      <th>4</th>\n",
       "      <td>6265</td>\n",
       "      <td>58</td>\n",
       "      <td>0</td>\n",
       "      <td>1</td>\n",
       "    </tr>\n",
       "    <tr>\n",
       "      <th>...</th>\n",
       "      <td>...</td>\n",
       "      <td>...</td>\n",
       "      <td>...</td>\n",
       "      <td>...</td>\n",
       "    </tr>\n",
       "    <tr>\n",
       "      <th>995</th>\n",
       "      <td>81449</td>\n",
       "      <td>79</td>\n",
       "      <td>13</td>\n",
       "      <td>3</td>\n",
       "    </tr>\n",
       "    <tr>\n",
       "      <th>996</th>\n",
       "      <td>60004</td>\n",
       "      <td>53</td>\n",
       "      <td>8</td>\n",
       "      <td>0</td>\n",
       "    </tr>\n",
       "    <tr>\n",
       "      <th>997</th>\n",
       "      <td>62981</td>\n",
       "      <td>85</td>\n",
       "      <td>7</td>\n",
       "      <td>0</td>\n",
       "    </tr>\n",
       "    <tr>\n",
       "      <th>998</th>\n",
       "      <td>84659</td>\n",
       "      <td>91</td>\n",
       "      <td>16</td>\n",
       "      <td>3</td>\n",
       "    </tr>\n",
       "    <tr>\n",
       "      <th>999</th>\n",
       "      <td>54553</td>\n",
       "      <td>19</td>\n",
       "      <td>1</td>\n",
       "      <td>1</td>\n",
       "    </tr>\n",
       "  </tbody>\n",
       "</table>\n",
       "<p>1000 rows × 4 columns</p>\n",
       "</div>"
      ],
      "text/plain": [
       "      飞行里程  游戏时间占比  冰淇淋消费  喜欢程度\n",
       "0    15795      63      0     0\n",
       "1      860      97      9     1\n",
       "2    76820      58      7     3\n",
       "3    54886      55     17     1\n",
       "4     6265      58      0     1\n",
       "..     ...     ...    ...   ...\n",
       "995  81449      79     13     3\n",
       "996  60004      53      8     0\n",
       "997  62981      85      7     0\n",
       "998  84659      91     16     3\n",
       "999  54553      19      1     1\n",
       "\n",
       "[1000 rows x 4 columns]"
      ]
     },
     "execution_count": 37,
     "metadata": {},
     "output_type": "execute_result"
    }
   ],
   "source": [
    "dating_data"
   ]
  },
  {
   "cell_type": "code",
   "execution_count": 44,
   "id": "f9081629-e334-47b2-b645-03cfc745e7b8",
   "metadata": {},
   "outputs": [],
   "source": [
    "datingDataMat = dating_data.to_numpy()[:, 0:3]"
   ]
  },
  {
   "cell_type": "code",
   "execution_count": 45,
   "id": "4f4b1109-6683-482c-b465-b895d7ae9754",
   "metadata": {},
   "outputs": [
    {
     "data": {
      "text/plain": [
       "array([[15795,    63,     0],\n",
       "       [  860,    97,     9],\n",
       "       [76820,    58,     7],\n",
       "       ...,\n",
       "       [62981,    85,     7],\n",
       "       [84659,    91,    16],\n",
       "       [54553,    19,     1]])"
      ]
     },
     "execution_count": 45,
     "metadata": {},
     "output_type": "execute_result"
    }
   ],
   "source": [
    "datingDataMat"
   ]
  },
  {
   "cell_type": "code",
   "execution_count": 46,
   "id": "d7c3ffbf-1c9b-4c42-8c28-e8aa3159ef69",
   "metadata": {},
   "outputs": [],
   "source": [
    "datingLabels = dating_data.to_numpy()[:,3]"
   ]
  },
  {
   "cell_type": "code",
   "execution_count": 49,
   "id": "7a243e16-05a1-4984-be10-c0f1700b3b4d",
   "metadata": {},
   "outputs": [
    {
     "data": {
      "text/plain": [
       "array([0, 1, 3, 1, 1, 0, 1, 3, 1, 1, 3, 0, 1, 0, 1, 1, 1, 1, 1, 3])"
      ]
     },
     "execution_count": 49,
     "metadata": {},
     "output_type": "execute_result"
    }
   ],
   "source": [
    "datingLabels[:20]"
   ]
  },
  {
   "cell_type": "code",
   "execution_count": 54,
   "id": "6b851937-7877-46d3-b5a7-42d439a8b2ba",
   "metadata": {},
   "outputs": [
    {
     "data": {
      "image/png": "[encoded data removed]",
      "text/plain": [
       "<Figure size 640x480 with 1 Axes>"
      ]
     },
     "metadata": {},
     "output_type": "display_data"
    }
   ],
   "source": [
    "fig = plt.figure()\n",
    "ax = fig.add_subplot(111)\n",
    "ax.scatter(datingDataMat[:,1], datingDataMat[:,2], 15.0*array(datingLabels), 15.0*array(datingLabels))\n",
    "plt.xlabel('玩视频游戏所耗时间百分比', fontsize=12)\n",
    "plt.ylabel('每周消费的冰琪淋公升数', fontsize=12)\n",
    "plt.show()"
   ]
  },
  {
   "cell_type": "code",
   "execution_count": 55,
   "id": "758c92b2-fc5f-4dde-bac3-5b61da3207eb",
   "metadata": {},
   "outputs": [],
   "source": [
    "# 归一化函数：将数据集中的每个特征缩放到 [0, 1] 范围内\n",
    "def autoNorm(dataSet):\n",
    "    \"\"\"\n",
    "    参数:\n",
    "    - dataSet: 输入的数据集（NumPy数组，形状为 [n_samples, n_features]）\n",
    "\n",
    "    返回:\n",
    "    - normDataSet: 归一化后的数据集\n",
    "    - ranges: 每个特征的范围（最大值 - 最小值）\n",
    "    - minVals: 每个特征的最小值\n",
    "    \"\"\"\n",
    "    \n",
    "    # 1. 计算每个特征的最小值和最大值（沿第0轴，即列方向）\n",
    "    minVals = dataSet.min(0)  # 形状: (n_features,)\n",
    "    maxVals = dataSet.max(0)  # 形状: (n_features,)\n",
    "    \n",
    "    # 2. 计算每个特征的范围（最大值 - 最小值）\n",
    "    ranges = maxVals - minVals  # 形状: (n_features,)\n",
    "    \n",
    "    # 3. 初始化归一化后的数据集（形状与输入相同）\n",
    "    normDataSet = np.zeros(np.shape(dataSet))\n",
    "    \n",
    "    # 4. 获取样本数量（行数）\n",
    "    m = dataSet.shape[0]\n",
    "    \n",
    "    # 5. 归一化操作：\n",
    "    #    a) 减去最小值（将数据平移至以0为起点）\n",
    "    #    b) 除以范围（缩放到 [0, 1]）\n",
    "    normDataSet = dataSet - np.tile(minVals, (m, 1))  # np.tile 用于广播操作\n",
    "    normDataSet = normDataSet / np.tile(ranges, (m, 1))\n",
    "    \n",
    "    # 6. 返回归一化后的数据、特征范围和最小值\n",
    "    return normDataSet, ranges, minVals"
   ]
  },
  {
   "cell_type": "code",
   "execution_count": 56,
   "id": "cbd117a6-1adb-4c3a-8f09-71409f76731b",
   "metadata": {},
   "outputs": [],
   "source": [
    "normMat, ranges, minVals = autoNorm(datingDataMat)"
   ]
  },
  {
   "cell_type": "code",
   "execution_count": 57,
   "id": "718f2170-93dc-4958-ae37-87bc148af04e",
   "metadata": {},
   "outputs": [
    {
     "data": {
      "text/plain": [
       "array([[0.15774704, 0.63636364, 0.        ],\n",
       "       [0.00806775, 0.97979798, 0.47368421],\n",
       "       [0.76934255, 0.58585859, 0.36842105],\n",
       "       ...,\n",
       "       [0.63064742, 0.85858586, 0.36842105],\n",
       "       [0.84790539, 0.91919192, 0.84210526],\n",
       "       [0.5461816 , 0.19191919, 0.05263158]])"
      ]
     },
     "execution_count": 57,
     "metadata": {},
     "output_type": "execute_result"
    }
   ],
   "source": [
    "normMat"
   ]
  },
  {
   "cell_type": "code",
   "execution_count": 58,
   "id": "e7a4594f-6ded-4f9d-9c5e-f873e9da1bb0",
   "metadata": {},
   "outputs": [
    {
     "data": {
      "text/plain": [
       "array([99780,    99,    19])"
      ]
     },
     "execution_count": 58,
     "metadata": {},
     "output_type": "execute_result"
    }
   ],
   "source": [
    "ranges"
   ]
  },
  {
   "cell_type": "code",
   "execution_count": 59,
   "id": "f24f9971-755e-42e1-858b-609049acb2db",
   "metadata": {},
   "outputs": [
    {
     "data": {
      "text/plain": [
       "array([55,  0,  0])"
      ]
     },
     "execution_count": 59,
     "metadata": {},
     "output_type": "execute_result"
    }
   ],
   "source": [
    "minVals"
   ]
  },
  {
   "cell_type": "code",
   "execution_count": 61,
   "id": "52dddddb-58c3-4a65-bf68-d62fc6e29bd6",
   "metadata": {},
   "outputs": [],
   "source": [
    "def datingClassTest():\n",
    "    \"\"\"\n",
    "    功能：测试约会数据集分类器的错误率（使用KNN算法）\n",
    "    流程：\n",
    "        1. 分割数据集为测试集和训练集\n",
    "        2. 对每个测试样本调用分类器\n",
    "        3. 统计分类错误率\n",
    "    \"\"\"\n",
    "    \n",
    "    # 设置测试集比例（10%）\n",
    "    hoRatio = 0.10  # hold-out ratio\n",
    "\n",
    "    # 假设已预先加载并归一化的数据：\n",
    "    # normMat: 归一化后的特征矩阵（形状：[n_samples, n_features]）\n",
    "    # datingLabels: 对应的标签数组（形状：[n_samples]）\n",
    "    # 注：原代码中这两变量被注释，实际使用时需取消注释\n",
    "    # datingDataMat,datingLabels = file2matrix('datingTestSet.txt')\n",
    "    # normMat, ranges, minVals = autoNorm(datingDataMat)\n",
    "\n",
    "    # 获取样本总数\n",
    "    m = normMat.shape[0]\n",
    "    \n",
    "    # 计算测试集样本数量（取整）\n",
    "    numTestVecs = int(m * hoRatio)\n",
    "    \n",
    "    # 初始化错误计数器\n",
    "    errorCount = 0.0\n",
    "    \n",
    "    # 遍历测试集\n",
    "    for i in range(numTestVecs):\n",
    "        # 调用KNN分类器（参数说明见下方）\n",
    "        classifierResult = classify0(\n",
    "            normMat[i, :],                  # 当前测试样本特征\n",
    "            normMat[numTestVecs:m, :],      # 训练集特征（后90%数据）\n",
    "            datingLabels[numTestVecs:m],    # 训练集标签\n",
    "            3                              # KNN的k值（取最近的3个邻居）\n",
    "        )\n",
    "        \"\"\"\n",
    "        KNN分类器调用\n",
    "            classify0 函数应实现以下逻辑：\n",
    "            计算测试样本与所有训练样本的距离（如欧氏距离）\n",
    "            选择距离最近的k个样本\n",
    "            通过投票机制决定预测标签\n",
    "        \"\"\"\n",
    "        # 打印分类结果与真实标签\n",
    "        print(\"分类器返回: %d, 真实标签: %d\" % (classifierResult, datingLabels[i]))\n",
    "        \n",
    "        # 统计错误分类\n",
    "        if classifierResult != datingLabels[i]:\n",
    "            errorCount += 1.0\n",
    "    \n",
    "    # 计算并输出总错误率\n",
    "    print(\"总错误率: %f\" % (errorCount / float(numTestVecs)))"
   ]
  },
  {
   "cell_type": "code",
   "execution_count": 62,
   "id": "481235f1-41ca-4753-ba5c-c7f876f702b3",
   "metadata": {},
   "outputs": [
    {
     "name": "stdout",
     "output_type": "stream",
     "text": [
      "{np.int64(0): 1, np.int64(1): 1, np.int64(3): 1}\n",
      "分类器返回: 0, 真实标签: 0\n",
      "{np.int64(1): 3}\n",
      "分类器返回: 1, 真实标签: 1\n",
      "{np.int64(1): 2, np.int64(0): 1}\n",
      "分类器返回: 1, 真实标签: 3\n",
      "{np.int64(0): 1, np.int64(3): 2}\n",
      "分类器返回: 3, 真实标签: 1\n",
      "{np.int64(1): 3}\n",
      "分类器返回: 1, 真实标签: 1\n",
      "{np.int64(0): 1, np.int64(1): 1, np.int64(3): 1}\n",
      "分类器返回: 0, 真实标签: 0\n",
      "{np.int64(1): 2, np.int64(3): 1}\n",
      "分类器返回: 1, 真实标签: 1\n",
      "{np.int64(0): 1, np.int64(1): 2}\n",
      "分类器返回: 1, 真实标签: 3\n",
      "{np.int64(3): 2, np.int64(0): 1}\n",
      "分类器返回: 3, 真实标签: 1\n",
      "{np.int64(1): 3}\n",
      "分类器返回: 1, 真实标签: 1\n",
      "{np.int64(0): 1, np.int64(1): 1, np.int64(3): 1}\n",
      "分类器返回: 0, 真实标签: 3\n",
      "{np.int64(1): 1, np.int64(3): 1, np.int64(0): 1}\n",
      "分类器返回: 1, 真实标签: 0\n",
      "{np.int64(0): 1, np.int64(3): 1, np.int64(1): 1}\n",
      "分类器返回: 0, 真实标签: 1\n",
      "{np.int64(0): 2, np.int64(1): 1}\n",
      "分类器返回: 0, 真实标签: 0\n",
      "{np.int64(0): 1, np.int64(1): 2}\n",
      "分类器返回: 1, 真实标签: 1\n",
      "{np.int64(1): 2, np.int64(0): 1}\n",
      "分类器返回: 1, 真实标签: 1\n",
      "{np.int64(0): 1, np.int64(1): 2}\n",
      "分类器返回: 1, 真实标签: 1\n",
      "{np.int64(0): 2, np.int64(3): 1}\n",
      "分类器返回: 0, 真实标签: 1\n",
      "{np.int64(3): 2, np.int64(1): 1}\n",
      "分类器返回: 3, 真实标签: 1\n",
      "{np.int64(0): 1, np.int64(1): 2}\n",
      "分类器返回: 1, 真实标签: 3\n",
      "{np.int64(1): 1, np.int64(0): 2}\n",
      "分类器返回: 0, 真实标签: 1\n",
      "{np.int64(3): 2, np.int64(0): 1}\n",
      "分类器返回: 3, 真实标签: 0\n",
      "{np.int64(1): 1, np.int64(0): 2}\n",
      "分类器返回: 0, 真实标签: 1\n",
      "{np.int64(1): 2, np.int64(0): 1}\n",
      "分类器返回: 1, 真实标签: 1\n",
      "{np.int64(1): 3}\n",
      "分类器返回: 1, 真实标签: 1\n",
      "{np.int64(0): 2, np.int64(3): 1}\n",
      "分类器返回: 0, 真实标签: 3\n",
      "{np.int64(1): 2, np.int64(3): 1}\n",
      "分类器返回: 1, 真实标签: 3\n",
      "{np.int64(1): 2, np.int64(0): 1}\n",
      "分类器返回: 1, 真实标签: 0\n",
      "{np.int64(1): 1, np.int64(0): 1, np.int64(3): 1}\n",
      "分类器返回: 1, 真实标签: 3\n",
      "{np.int64(1): 2, np.int64(0): 1}\n",
      "分类器返回: 1, 真实标签: 0\n",
      "{np.int64(0): 3}\n",
      "分类器返回: 0, 真实标签: 0\n",
      "{np.int64(1): 1, np.int64(0): 2}\n",
      "分类器返回: 0, 真实标签: 0\n",
      "{np.int64(1): 2, np.int64(3): 1}\n",
      "分类器返回: 1, 真实标签: 3\n",
      "{np.int64(0): 2, np.int64(3): 1}\n",
      "分类器返回: 0, 真实标签: 1\n",
      "{np.int64(1): 3}\n",
      "分类器返回: 1, 真实标签: 0\n",
      "{np.int64(3): 1, np.int64(1): 2}\n",
      "分类器返回: 1, 真实标签: 1\n",
      "{np.int64(0): 2, np.int64(1): 1}\n",
      "分类器返回: 0, 真实标签: 1\n",
      "{np.int64(3): 1, np.int64(0): 1, np.int64(1): 1}\n",
      "分类器返回: 3, 真实标签: 0\n",
      "{np.int64(0): 3}\n",
      "分类器返回: 0, 真实标签: 3\n",
      "{np.int64(3): 1, np.int64(1): 1, np.int64(0): 1}\n",
      "分类器返回: 3, 真实标签: 3\n",
      "{np.int64(0): 2, np.int64(1): 1}\n",
      "分类器返回: 0, 真实标签: 1\n",
      "{np.int64(1): 3}\n",
      "分类器返回: 1, 真实标签: 3\n",
      "{np.int64(0): 1, np.int64(3): 2}\n",
      "分类器返回: 3, 真实标签: 1\n",
      "{np.int64(0): 1, np.int64(1): 2}\n",
      "分类器返回: 1, 真实标签: 3\n",
      "{np.int64(1): 2, np.int64(0): 1}\n",
      "分类器返回: 1, 真实标签: 1\n",
      "{np.int64(1): 2, np.int64(3): 1}\n",
      "分类器返回: 1, 真实标签: 1\n",
      "{np.int64(0): 2, np.int64(3): 1}\n",
      "分类器返回: 0, 真实标签: 0\n",
      "{np.int64(1): 2, np.int64(0): 1}\n",
      "分类器返回: 1, 真实标签: 3\n",
      "{np.int64(0): 1, np.int64(1): 1, np.int64(3): 1}\n",
      "分类器返回: 0, 真实标签: 1\n",
      "{np.int64(0): 2, np.int64(1): 1}\n",
      "分类器返回: 0, 真实标签: 0\n",
      "{np.int64(1): 1, np.int64(0): 2}\n",
      "分类器返回: 0, 真实标签: 0\n",
      "{np.int64(3): 2, np.int64(1): 1}\n",
      "分类器返回: 3, 真实标签: 1\n",
      "{np.int64(1): 2, np.int64(0): 1}\n",
      "分类器返回: 1, 真实标签: 1\n",
      "{np.int64(1): 3}\n",
      "分类器返回: 1, 真实标签: 1\n",
      "{np.int64(1): 2, np.int64(0): 1}\n",
      "分类器返回: 1, 真实标签: 3\n",
      "{np.int64(1): 3}\n",
      "分类器返回: 1, 真实标签: 0\n",
      "{np.int64(0): 2, np.int64(3): 1}\n",
      "分类器返回: 0, 真实标签: 1\n",
      "{np.int64(1): 2, np.int64(0): 1}\n",
      "分类器返回: 1, 真实标签: 0\n",
      "{np.int64(0): 1, np.int64(1): 1, np.int64(3): 1}\n",
      "分类器返回: 0, 真实标签: 3\n",
      "{np.int64(1): 3}\n",
      "分类器返回: 1, 真实标签: 3\n",
      "{np.int64(1): 1, np.int64(3): 1, np.int64(0): 1}\n",
      "分类器返回: 1, 真实标签: 1\n",
      "{np.int64(1): 3}\n",
      "分类器返回: 1, 真实标签: 1\n",
      "{np.int64(0): 1, np.int64(1): 1, np.int64(3): 1}\n",
      "分类器返回: 0, 真实标签: 1\n",
      "{np.int64(0): 2, np.int64(1): 1}\n",
      "分类器返回: 0, 真实标签: 1\n",
      "{np.int64(0): 1, np.int64(1): 2}\n",
      "分类器返回: 1, 真实标签: 3\n",
      "{np.int64(1): 2, np.int64(0): 1}\n",
      "分类器返回: 1, 真实标签: 1\n",
      "{np.int64(0): 2, np.int64(1): 1}\n",
      "分类器返回: 0, 真实标签: 1\n",
      "{np.int64(0): 2, np.int64(1): 1}\n",
      "分类器返回: 0, 真实标签: 1\n",
      "{np.int64(1): 1, np.int64(3): 2}\n",
      "分类器返回: 3, 真实标签: 3\n",
      "{np.int64(1): 1, np.int64(0): 2}\n",
      "分类器返回: 0, 真实标签: 1\n",
      "{np.int64(0): 2, np.int64(1): 1}\n",
      "分类器返回: 0, 真实标签: 0\n",
      "{np.int64(3): 1, np.int64(1): 1, np.int64(0): 1}\n",
      "分类器返回: 3, 真实标签: 1\n",
      "{np.int64(0): 2, np.int64(3): 1}\n",
      "分类器返回: 0, 真实标签: 3\n",
      "{np.int64(0): 1, np.int64(1): 2}\n",
      "分类器返回: 1, 真实标签: 0\n",
      "{np.int64(1): 1, np.int64(0): 1, np.int64(3): 1}\n",
      "分类器返回: 1, 真实标签: 0\n",
      "{np.int64(3): 2, np.int64(0): 1}\n",
      "分类器返回: 3, 真实标签: 0\n",
      "{np.int64(0): 2, np.int64(3): 1}\n",
      "分类器返回: 0, 真实标签: 1\n",
      "{np.int64(3): 1, np.int64(1): 1, np.int64(0): 1}\n",
      "分类器返回: 3, 真实标签: 1\n",
      "{np.int64(3): 1, np.int64(0): 1, np.int64(1): 1}\n",
      "分类器返回: 3, 真实标签: 1\n",
      "{np.int64(1): 1, np.int64(0): 2}\n",
      "分类器返回: 0, 真实标签: 1\n",
      "{np.int64(0): 1, np.int64(3): 1, np.int64(1): 1}\n",
      "分类器返回: 0, 真实标签: 1\n",
      "{np.int64(1): 1, np.int64(0): 2}\n",
      "分类器返回: 0, 真实标签: 1\n",
      "{np.int64(1): 2, np.int64(3): 1}\n",
      "分类器返回: 1, 真实标签: 3\n",
      "{np.int64(0): 1, np.int64(3): 1, np.int64(1): 1}\n",
      "分类器返回: 0, 真实标签: 1\n",
      "{np.int64(3): 1, np.int64(0): 2}\n",
      "分类器返回: 0, 真实标签: 3\n",
      "{np.int64(0): 1, np.int64(1): 2}\n",
      "分类器返回: 1, 真实标签: 1\n",
      "{np.int64(3): 1, np.int64(1): 2}\n",
      "分类器返回: 1, 真实标签: 0\n",
      "{np.int64(0): 1, np.int64(1): 1, np.int64(3): 1}\n",
      "分类器返回: 0, 真实标签: 1\n",
      "{np.int64(0): 2, np.int64(3): 1}\n",
      "分类器返回: 0, 真实标签: 1\n",
      "{np.int64(3): 1, np.int64(1): 2}\n",
      "分类器返回: 1, 真实标签: 1\n",
      "{np.int64(1): 2, np.int64(0): 1}\n",
      "分类器返回: 1, 真实标签: 0\n",
      "{np.int64(1): 3}\n",
      "分类器返回: 1, 真实标签: 0\n",
      "{np.int64(3): 1, np.int64(0): 2}\n",
      "分类器返回: 0, 真实标签: 3\n",
      "{np.int64(1): 3}\n",
      "分类器返回: 1, 真实标签: 0\n",
      "{np.int64(1): 3}\n",
      "分类器返回: 1, 真实标签: 3\n",
      "{np.int64(3): 1, np.int64(1): 2}\n",
      "分类器返回: 1, 真实标签: 0\n",
      "{np.int64(0): 2, np.int64(1): 1}\n",
      "分类器返回: 0, 真实标签: 1\n",
      "{np.int64(0): 3}\n",
      "分类器返回: 0, 真实标签: 1\n",
      "{np.int64(1): 3}\n",
      "分类器返回: 1, 真实标签: 1\n",
      "{np.int64(1): 1, np.int64(0): 1, np.int64(3): 1}\n",
      "分类器返回: 1, 真实标签: 1\n",
      "总错误率: 0.680000\n"
     ]
    }
   ],
   "source": [
    "datingClassTest()"
   ]
  },
  {
   "cell_type": "code",
   "execution_count": 7,
   "id": "498dc098-51b6-45ec-9f7c-0c0071a83794",
   "metadata": {},
   "outputs": [
    {
     "name": "stdout",
     "output_type": "stream",
     "text": [
      "Looking in indexes: https://mirrors.cloud.tencent.com/pypi/simple\n",
      "Requirement already satisfied: pip in c:\\users\\shinelixie\\.conda\\envs\\machinelearninginaction\\lib\\site-packages (25.2)\n"
     ]
    }
   ],
   "source": [
    "!python -m pip install --upgrade pip"
   ]
  },
  {
   "cell_type": "code",
   "execution_count": 8,
   "id": "ff5a6a55-16bd-4740-805a-9fdad18a973f",
   "metadata": {},
   "outputs": [
    {
     "name": "stdout",
     "output_type": "stream",
     "text": [
      "特征数据形状: (1593, 256)\n",
      "标签数据形状: (1593,)\n"
     ]
    }
   ],
   "source": [
    "\"\"\"\n",
    "示例：使用k-近邻算法的手写识别系统\n",
    "1. 收集数据：提供文本文件。\n",
    "2. 准备数据：编写函数classify0()，将图像格式转换为分类器使用\n",
    "的list格式。\n",
    "3. 分析数据：在Python命令提示符中检查数据，确保它符合要求。\n",
    "4. 训练算法：此步骤不适用于k近邻算法。\n",
    "5. 测试算法：编写函数使用提供的部分数据集作为测试样本，测试样\n",
    "本与非测试样本的区别在于测试样本是已经完成分类的数据，如果\n",
    "预测分类与实际类别不同，则标记为一个错误。\n",
    "6. 使用算法：本例没有完成此步骤，若你感兴趣可以构建完整的应用\n",
    "程序，从图像中提取数字，并完成数字识别，美国的邮件分拣系统\n",
    "就是一个实际运行的类似系统。\n",
    "\"\"\"\n",
    "import numpy as np\n",
    "\n",
    "# 读取 semeion.data\n",
    "data_path = 'semeion.data'\n",
    "data = np.loadtxt(data_path)\n",
    "\n",
    "# 分离特征（像素）和标签（one-hot）\n",
    "X = data[:, :256]      # 前256列是像素（16x16图像展平）\n",
    "y_onehot = data[:, 256:]  # 后10列是one-hot标签\n",
    "\n",
    "# 将one-hot标签转换为数字（0-9）\n",
    "y = np.argmax(y_onehot, axis=1)\n",
    "\n",
    "print(\"特征数据形状:\", X.shape)  # 应为 (样本数, 256)\n",
    "print(\"标签数据形状:\", y.shape)  # 应为 (样本数,)"
   ]
  },
  {
   "cell_type": "code",
   "execution_count": 27,
   "id": "53936e53-345f-4e21-87f1-f64c3304f682",
   "metadata": {},
   "outputs": [],
   "source": [
    "def handwritingClassTest():\n",
    "\n",
    "        # 设置测试集比例（10%）\n",
    "    hoRatio = 0.10  # hold-out ratio\n",
    "\n",
    "    # 假设已预先加载并归一化的数据：\n",
    "    # normMat: 归一化后的特征矩阵（形状：[n_samples, n_features]）\n",
    "    # datingLabels: 对应的标签数组（形状：[n_samples]）\n",
    "    # 注：原代码中这两变量被注释，实际使用时需取消注释\n",
    "    # datingDataMat,datingLabels = file2matrix('datingTestSet.txt')\n",
    "    # normMat, ranges, minVals = autoNorm(datingDataMat)\n",
    "\n",
    "    # 获取样本总数\n",
    "    m = X.shape[0]\n",
    "    \n",
    "    # 计算测试集样本数量（取整）\n",
    "    numTestVecs = int(m * hoRatio)\n",
    "    \n",
    "    # 初始化错误计数器\n",
    "    errorCount = 0.0\n",
    "\n",
    "    for i in range(numTestVecs):\n",
    "        classifierResult = classify0(\n",
    "            X[i, :],\n",
    "            X[numTestVecs:, :],\n",
    "            y[numTestVecs:],\n",
    "            3\n",
    "        )\n",
    "        if (classifierResult != y[i]): errorCount += 1.0\n",
    "    print(\"\\nthe total number of errors is: %d\" % errorCount)\n",
    "    print(\"\\nthe total error rate is: %f\" % (errorCount/m*0.9))"
   ]
  },
  {
   "cell_type": "code",
   "execution_count": 28,
   "id": "cf9892e5-a047-4c6f-a8f2-31a585f9efa2",
   "metadata": {},
   "outputs": [
    {
     "name": "stdout",
     "output_type": "stream",
     "text": [
      "\n",
      "the total number of errors is: 7\n",
      "\n",
      "the total error rate is: 0.003955\n"
     ]
    }
   ],
   "source": [
    "handwritingClassTest()"
   ]
  },
  {
   "cell_type": "code",
   "execution_count": null,
   "id": "fd7f3bd7-673b-4d9e-b7fb-7ef1fe551797",
   "metadata": {},
   "outputs": [],
   "source": []
  }
 ],
 "metadata": {
  "kernelspec": {
   "display_name": "Python [conda env:base] *",
   "language": "python",
   "name": "conda-base-py"
  },
  "language_info": {
   "codemirror_mode": {
    "name": "ipython",
    "version": 3
   },
   "file_extension": ".py",
   "mimetype": "text/x-python",
   "name": "python",
   "nbconvert_exporter": "python",
   "pygments_lexer": "ipython3",
   "version": "3.13.5"
  }
 },
 "nbformat": 4,
 "nbformat_minor": 5
}
