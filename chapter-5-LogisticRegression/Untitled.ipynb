{
 "cells": [
  {
   "cell_type": "code",
   "execution_count": 4,
   "id": "25ec45a1-049c-4dc9-b835-e93b2fe7823d",
   "metadata": {},
   "outputs": [
    {
     "data": {
      "image/png": "[encoded data removed]",
      "text/plain": [
       "<Figure size 640x480 with 1 Axes>"
      ]
     },
     "metadata": {},
     "output_type": "display_data"
    }
   ],
   "source": [
    "import numpy as np\n",
    "import matplotlib.pyplot as plt\n",
    "# 随机种子（确保结果可复现）\n",
    "np.random.seed(42)  \n",
    "\n",
    "# 生成 Class 0 的样本：x1 偏大，x2 偏大\n",
    "class0_size = 60\n",
    "x1_class0 = np.random.uniform(0, 3, class0_size)  # x1 在 [0, 3) 均匀采样\n",
    "x2_class0 = np.random.uniform(8, 15, class0_size) # x2 在 [8, 15) 均匀采样\n",
    "class0 = np.column_stack((x1_class0, x2_class0))  # 合并为特征矩阵\n",
    "labels0 = np.zeros(class0_size)                   # 标签：0\n",
    "\n",
    "# 生成 Class 1 的样本：x1 偏小，x2 偏小\n",
    "class1_size = 40\n",
    "x1_class1 = np.random.uniform(-4, 2, class1_size) # x1 在 [-4, 2) 均匀采样\n",
    "x2_class1 = np.random.uniform(0, 8, class1_size)  # x2 在 [0, 8) 均匀采样\n",
    "class1 = np.column_stack((x1_class1, x2_class1))  # 合并为特征矩阵\n",
    "labels1 = np.ones(class1_size)                    # 标签：1\n",
    "\n",
    "# 合并所有样本和标签\n",
    "X = np.vstack((class0, class1))\n",
    "y = np.hstack((labels0, labels1))\n",
    "plt.scatter(class0[:, 0], class0[:, 1], c='blue', label='Class 0')\n",
    "plt.scatter(class1[:, 0], class1[:, 1], c='red', label='Class 1')\n",
    "plt.xlabel('X1')\n",
    "plt.ylabel('X2')\n",
    "plt.legend()\n",
    "plt.show()"
   ]
  },
  {
   "cell_type": "code",
   "execution_count": 31,
   "id": "0954e232-1726-4f1a-b740-e57b6ce62163",
   "metadata": {},
   "outputs": [],
   "source": [
    "def loadDataSet():\n",
    "    return X_with_X0, y"
   ]
  },
  {
   "cell_type": "code",
   "execution_count": 36,
   "id": "fd794b53-1103-465c-86d2-7ab0685b62d1",
   "metadata": {},
   "outputs": [],
   "source": [
    "# 接下来，我们介绍几个最优化算法，并利用它们训练出一个非线性函数用于分类。\n",
    "\"\"\"\n",
    "Logistic回归的一般过程\n",
    "1. 收集数据：采用任意方法收集数据。\n",
    "2. 准备数据：由于需要进行距离计算，因此要求数据类型为数值型。\n",
    "另外，结构化数据格式则最佳。\n",
    "3. 分析数据：采用任意方法对数据进行分析。\n",
    "4. 训练算法：大部分时间将用于训练，训练的目的是为了找到最佳的\n",
    "分类回归系数。\n",
    "5. 测试算法：一旦训练步骤完成，分类将会很快。\n",
    "6. 使用算法：首先，我们需要一些输入数据，并将其转换成对应的结\n",
    "构化数值；接着，基于训练好的回归系数就可以对这些数值进行简\n",
    "单的回归计算，判定它们属于哪个类别；在这之后，我们就可以在\n",
    "输出的类别上做一些其他分析工作。\n",
    "包括基本的梯度上升法和一个改进的随机梯度上升法，这些最优化算法将用于分类器的训练。\n",
    "\"\"\"\n",
    "\n",
    "# 5.1 基于Logistic回归和Sigmoid函数的分类\n",
    "\"\"\"\n",
    "Logistic回归\n",
    "优点：计算代价不高，易于理解和实现。\n",
    "缺点：容易欠拟合，分类精度可能不高。\n",
    "适用数据类型：数值型和标称型数据\n",
    "实现Logistic回归分类器，我们可以在每个特征上乘以一个回归\n",
    "系数，然后把所有的结果值相加，将这个总和代入Sigmoid函数中，进而得\n",
    "到一个范围在0~1之间的数值。\n",
    "\"\"\"\n",
    "\n",
    "# 梯度上升算法用来求函数的最大值，而梯度下降算法用来求函数的最小值。\n",
    "# 梯度上升法的伪代码如下\n",
    "\"\"\"\n",
    "每个回归系数初始化为1\n",
    "重复R次：\n",
    "计算整个数据集的梯度\n",
    "使用`alpha × gradient`更新回归系数的向量\n",
    "返回回归系数\n",
    "\"\"\"\n",
    "def sigmoid(inX):\n",
    "    return 1.0/(1+exp(-inX))\n",
    "    \n",
    "from numpy import ones\n",
    "\n",
    "def gradAscent(dataMatrix, labelMat):\n",
    "    \"\"\"\n",
    "    使用梯度上升法求解逻辑回归的最佳参数权重\n",
    "    \n",
    "    参数:\n",
    "        dataMatrix: 特征矩阵，形状为 [样本数, 特征数]\n",
    "        labelMat: 标签矩阵，形状为 [样本数, 1]\n",
    "        \n",
    "    返回:\n",
    "        weights: 最优权重向量，形状为 [特征数, 1]\n",
    "    \"\"\"\n",
    "    # 获取样本数和特征数\n",
    "    m, n = dataMatrix.shape\n",
    "    \n",
    "    # 设置学习率和最大迭代次数\n",
    "    alpha = 0.001  # 学习率（步长）\n",
    "    maxCycles = 500  # 最大迭代次数\n",
    "    \n",
    "    # 初始化权重向量（全1向量）\n",
    "    weights = ones((n, 1))  # 形状 [特征数, 1]\n",
    "    \n",
    "    # 开始梯度上升迭代\n",
    "    for k in range(maxCycles):\n",
    "        # 计算当前权重下的sigmoid预测值\n",
    "        # h = 1/(1 + exp(-z)), 其中 z = dataMatrix * weights\n",
    "        h = sigmoid(np.dot(dataMatrix, weights))  # 形状 [样本数, 1]\n",
    "        \"\"\"\n",
    "        矩阵运算。变量h不是一个数而是一个列向量，列向量的元素个数等于样本个\n",
    "        数，这里是100。对应地，运算dataMatrix * weights代表的不是一次乘\n",
    "        积计算，事实上该运算包含了300次的乘积。\n",
    "        \"\"\"\n",
    "        # 计算预测值与真实标签的误差\n",
    "        error = (labelMat - h)  # 形状 [样本数, 1]\n",
    "        if k % 100 == 0:\n",
    "            print(f\"第{k+1}次迭代，error为{sum(error)}\")\n",
    "        # 更新权重：weights = weights + alpha * 梯度\n",
    "        # 梯度 = dataMatrix.T * error (矩阵乘法)\n",
    "        weights = weights + alpha * np.dot(dataMatrix.transpose(),error)\n",
    "    \n",
    "    # 返回训练完成的最优权重\n",
    "    return weights"
   ]
  },
  {
   "cell_type": "code",
   "execution_count": null,
   "id": "5c41bc9a-d456-44f5-8861-8b378b9d01cf",
   "metadata": {},
   "outputs": [],
   "source": [
    "X_with_X0 = np.hstack((np.ones((X.shape[0], 1)), X))\n",
    "X_with_X0"
   ]
  },
  {
   "cell_type": "code",
   "execution_count": 15,
   "id": "caae6635-c095-42d5-bba1-75d3fe755148",
   "metadata": {},
   "outputs": [],
   "source": [
    "\"\"\"\n",
    "我们现在采用的是100个样\n",
    "本的简单数据集，它包含了两个特征X1和X2，再加上第0维特征X0，所以\n",
    "dataMath里存放的将是100×3的矩阵\n",
    "\"\"\"\n",
    "y_reshape = y.reshape((100,1))"
   ]
  },
  {
   "cell_type": "code",
   "execution_count": 37,
   "id": "a5c13e8a-9386-4e22-98ca-26dd32ab4be0",
   "metadata": {},
   "outputs": [
    {
     "name": "stdout",
     "output_type": "stream",
     "text": [
      "第1次迭代，error为[-54.55813631]\n",
      "第101次迭代，error为[6.2005316]\n",
      "第201次迭代，error为[5.11701487]\n",
      "第301次迭代，error为[4.34056531]\n",
      "第401次迭代，error为[3.75553959]\n"
     ]
    }
   ],
   "source": [
    "from numpy import exp\n",
    "weights = gradAscent(X_with_X0,y_reshape)"
   ]
  },
  {
   "cell_type": "code",
   "execution_count": 29,
   "id": "203e9f63-d427-4d0e-8ef5-93d465f80c69",
   "metadata": {},
   "outputs": [],
   "source": [
    "# 5.2.3 分析数据：画出决策边界\n",
    "def plotBestFit(wei):\n",
    "    # 导入matplotlib.pyplot用于绘图\n",
    "    import matplotlib.pyplot as plt\n",
    "    # 将矩阵类型的权重转换为数组类型\n",
    "    weights = wei\n",
    "\n",
    "    # 加载数据集，获取特征矩阵和标签向量\n",
    "    dataMat, labelMat = loadDataSet()\n",
    "    # 获取数据集的样本数量\n",
    "    n = dataMat.shape[0]\n",
    "    # 初始化两个类别的样本坐标列表\n",
    "    xcord1 = []; ycord1 = []\n",
    "    xcord2 = []; ycord2 = []\n",
    "    # 遍历所有样本，根据标签区分不同类别并存储坐标\n",
    "    for i in range(n):\n",
    "        if int(labelMat[i]) == 1:\n",
    "            xcord1.append(dataMat[i, 1]); ycord1.append(dataMat[i, 2])\n",
    "        else:\n",
    "            xcord2.append(dataMat[i, 1]); ycord2.append(dataMat[i, 2])\n",
    "    # 创建图形对象\n",
    "    fig = plt.figure()\n",
    "    # 添加子图，1行1列第1个\n",
    "    ax = fig.add_subplot(111)\n",
    "    # 绘制类别1的样本，红色方形标记\n",
    "    ax.scatter(xcord1, ycord1, s=30, c='red', marker='s')\n",
    "    # 绘制类别0的样本，绿色圆形标记\n",
    "    ax.scatter(xcord2, ycord2, s=30, c='green')\n",
    "    # 生成X轴数据，范围从-3.0到3.0，步长0.1\n",
    "    x = np.arange(-4.0, 2.0, 0.1)\n",
    "    # ❶ 根据逻辑回归模型参数计算决策边界（最佳拟合直线）\n",
    "    # 逻辑回归模型为：w0 + w1*x1 + w2*x2 = 0，变形得到x2关于x1的表达式\n",
    "    y = (-weights[0]-weights[1] * x) / weights[2]\n",
    "    # 绘制决策边界直线\n",
    "    ax.plot(x, y)\n",
    "    # 设置X轴和Y轴标签\n",
    "    plt.xlabel('X1'); plt.ylabel('X2');\n",
    "    # 显示图形\n",
    "    plt.show()"
   ]
  },
  {
   "cell_type": "code",
   "execution_count": 32,
   "id": "46eb2b0a-3370-48a0-87f1-f122a6ce549f",
   "metadata": {},
   "outputs": [
    {
     "data": {
      "image/png": "[encoded data removed]",
      "text/plain": [
       "<Figure size 640x480 with 1 Axes>"
      ]
     },
     "metadata": {},
     "output_type": "display_data"
    }
   ],
   "source": [
    "plotBestFit(weights)"
   ]
  },
  {
   "cell_type": "code",
   "execution_count": 38,
   "id": "65c96035-1da5-43fd-8f77-1632638262b6",
   "metadata": {},
   "outputs": [],
   "source": [
    "def stocGradAscent1(dataMatrix, classLabels, numIter=150):\n",
    "    \"\"\"\n",
    "    随机梯度上升算法（改进版）\n",
    "    参数：\n",
    "        dataMatrix: 特征矩阵，shape为(m, n)，m为样本数，n为特征数\n",
    "        classLabels: 标签列表，shape为(m,)\n",
    "        numIter: 迭代次数，默认150次\n",
    "    返回：\n",
    "        weights: 训练得到的权重向量\n",
    "    \"\"\"\n",
    "    # 获取样本数量和特征数量\n",
    "    m, n = np.shape(dataMatrix)\n",
    "    # 初始化权重向量为全1\n",
    "    weights = np.ones(n)\n",
    "    \n",
    "    # 外层循环控制迭代轮数\n",
    "    for j in range(numIter):\n",
    "        # 生成样本索引列表，用于随机选取样本\n",
    "        dataIndex = list(range(m))\n",
    "        \n",
    "        # 内层循环遍历所有样本（每次随机选择一个）\n",
    "        for i in range(m):\n",
    "            # 动态调整学习率：随迭代次数增加而减小，保证后期收敛稳定\n",
    "            alpha = 4 / (1.0 + j + i) + 0.01\n",
    "            \"\"\"\n",
    "            在降低alpha的函数中，alpha每次\n",
    "            减少1/(j+i) ，其中j是迭代次数，i是样本点的下标1 。这样\n",
    "            当j<<max(i)时，alpha就不是严格下降的。避免参数的严格下降也常见于\n",
    "            模拟退火算法等其他优化算法中。\n",
    "            \"\"\"\n",
    "            # 随机选择一个样本索引\n",
    "            randIndex = int(random.uniform(0, len(dataIndex)))\n",
    "            # 获取随机选中的样本\n",
    "            randSample = dataMatrix[randIndex]\n",
    "            \n",
    "            # 使用np.dot计算特征与权重的内积（替代元素级乘法+sum）\n",
    "            # 等价于：sum(randSample * weights)\n",
    "            z = np.dot(randSample, weights)\n",
    "            # 计算sigmoid预测值，这\n",
    "            h = sigmoid(z)\n",
    "            \n",
    "            # 计算预测误差（真实标签 - 预测概率）\n",
    "            error = classLabels[randIndex] - h\n",
    "            \n",
    "            # 使用np.dot的思路更新权重（向量加法）\n",
    "            # 等价于：weights = weights + alpha * error * randSample\n",
    "            weights = weights + alpha * error * randSample\n",
    "            \n",
    "            # 删除已使用的样本索引，避免重复选择\n",
    "            del(dataIndex[randIndex])\n",
    "    \n",
    "    return weights\n",
    "    "
   ]
  },
  {
   "cell_type": "code",
   "execution_count": 40,
   "id": "c3184151-e618-48dc-8597-8b13ac1ad968",
   "metadata": {},
   "outputs": [
    {
     "data": {
      "image/png": "[encoded data removed]",
      "text/plain": [
       "<Figure size 640x480 with 1 Axes>"
      ]
     },
     "metadata": {},
     "output_type": "display_data"
    }
   ],
   "source": [
    "import random\n",
    "plotBestFit(stocGradAscent1(X_with_X0,y_reshape))"
   ]
  },
  {
   "cell_type": "code",
   "execution_count": 41,
   "id": "7f0bbd85-c854-4345-9a7e-ed961b26c682",
   "metadata": {},
   "outputs": [
    {
     "name": "stdout",
     "output_type": "stream",
     "text": [
      "Looking in indexes: https://mirrors.cloud.tencent.com/pypi/simple\n",
      "Collecting ucimlrepo\n",
      "  Downloading https://mirrors.cloud.tencent.com/pypi/packages/3b/07/1252560194df2b4fad1cb3c46081b948331c63eb1bb0b97620d508d12a53/ucimlrepo-0.0.7-py3-none-any.whl (8.0 kB)\n",
      "Requirement already satisfied: pandas>=1.0.0 in c:\\users\\shinelixie\\.conda\\envs\\machinelearninginaction\\lib\\site-packages (from ucimlrepo) (2.3.2)\n",
      "Requirement already satisfied: certifi>=2020.12.5 in c:\\users\\shinelixie\\.conda\\envs\\machinelearninginaction\\lib\\site-packages (from ucimlrepo) (2025.8.3)\n",
      "Requirement already satisfied: numpy>=1.22.4 in c:\\users\\shinelixie\\.conda\\envs\\machinelearninginaction\\lib\\site-packages (from pandas>=1.0.0->ucimlrepo) (2.2.6)\n",
      "Requirement already satisfied: python-dateutil>=2.8.2 in c:\\users\\shinelixie\\.conda\\envs\\machinelearninginaction\\lib\\site-packages (from pandas>=1.0.0->ucimlrepo) (2.9.0.post0)\n",
      "Requirement already satisfied: pytz>=2020.1 in c:\\users\\shinelixie\\.conda\\envs\\machinelearninginaction\\lib\\site-packages (from pandas>=1.0.0->ucimlrepo) (2025.2)\n",
      "Requirement already satisfied: tzdata>=2022.7 in c:\\users\\shinelixie\\.conda\\envs\\machinelearninginaction\\lib\\site-packages (from pandas>=1.0.0->ucimlrepo) (2025.2)\n",
      "Requirement already satisfied: six>=1.5 in c:\\users\\shinelixie\\.conda\\envs\\machinelearninginaction\\lib\\site-packages (from python-dateutil>=2.8.2->pandas>=1.0.0->ucimlrepo) (1.17.0)\n",
      "Installing collected packages: ucimlrepo\n",
      "Successfully installed ucimlrepo-0.0.7\n"
     ]
    }
   ],
   "source": [
    "# 5.3 示例：从疝气病症预测病马的死亡率\n",
    "!pip install ucimlrepo"
   ]
  },
  {
   "cell_type": "code",
   "execution_count": 42,
   "id": "b5759afd-8ce5-41be-b229-45bd5bc65074",
   "metadata": {
    "scrolled": true
   },
   "outputs": [
    {
     "name": "stdout",
     "output_type": "stream",
     "text": [
      "{'uci_id': 47, 'name': 'Horse Colic', 'repository_url': 'https://archive.ics.uci.edu/dataset/47/horse+colic', 'data_url': 'https://archive.ics.uci.edu/static/public/47/data.csv', 'abstract': 'Well documented attributes; 368 instances with 28 attributes (continuous, discrete, and nominal); 30% missing values', 'area': 'Biology', 'tasks': ['Classification'], 'characteristics': ['Multivariate'], 'num_instances': 368, 'num_features': 27, 'feature_types': ['Categorical', 'Integer', 'Real'], 'demographics': ['Age'], 'target_col': ['surgical_lesion'], 'index_col': None, 'has_missing_values': 'yes', 'missing_values_symbol': 'NaN', 'year_of_dataset_creation': 1989, 'last_updated': 'Mon Feb 26 2024', 'dataset_doi': '10.24432/C58W23', 'creators': ['Mary McLeish', 'Matt Cecile'], 'intro_paper': None, 'additional_info': {'summary': '2 data files: \\r\\n      -- horse-colic.data: 300 training instances\\r\\n      -- horse-colic.test: 68 test instances\\r\\n\\r\\nPossible class attributes: 24 (whether lesion is surgical)\\r\\n     -- others include: 23, 25, 26, and 27\\r\\n\\r\\nMany Data types: (continuous, discrete, and nominal)', 'purpose': None, 'funded_by': None, 'instances_represent': None, 'recommended_data_splits': None, 'sensitive_data': None, 'preprocessing_description': None, 'variable_info': \"  1:  surgery?\\r\\n          1 = Yes, it had surgery\\r\\n          2 = It was treated without surgery\\r\\n\\r\\n  2:  Age \\r\\n          1 = Adult horse\\r\\n          2 = Young (< 6 months)\\r\\n\\r\\n  3:  Hospital Number \\r\\n          - numeric id\\r\\n          - the case number assigned to the horse (may not be unique if the horse is treated > 1 time)\\r\\n\\r\\n  4:  rectal temperature\\r\\n          - linear\\r\\n          - in degrees celsius.\\r\\n          - An elevated temp may occur due to infection.\\r\\n          - temperature may be reduced when the animal is in late shock\\r\\n          - normal temp is 37.8\\r\\n          - this parameter will usually change as the problem progresses, eg. may start out normal, then become elevated because of the lesion, passing back through the normal range as the horse goes into shock\\r\\n  5:  pulse \\r\\n          - linear\\r\\n          - the heart rate in beats per minute\\r\\n          - is a reflection of the heart condition: 30 -40 is normal for adults\\r\\n          - rare to have a lower than normal rate although athletic horses may have a rate of 20-25\\r\\n          - animals with painful lesions or suffering from circulatory shock may have an elevated heart rate\\r\\n\\r\\n  6:  respiratory rate\\r\\n          - linear\\r\\n          - normal rate is 8 to 10\\r\\n          - usefulness is doubtful due to the great fluctuations\\r\\n\\r\\n  7:  temperature of extremities\\r\\n          - a subjective indication of peripheral circulation\\r\\n          - possible values:\\r\\n               1 = Normal\\r\\n               2 = Warm\\r\\n               3 = Cool\\r\\n               4 = Cold\\r\\n          - cool to cold extremities indicate possible shock\\r\\n          - hot extremities should correlate with an elevated rectal temp.\\r\\n\\r\\n  8:  peripheral pulse\\r\\n          - subjective\\r\\n          - possible values are:\\r\\n               1 = normal\\r\\n               2 = increased\\r\\n               3 = reduced\\r\\n               4 = absent\\r\\n          - normal or increased p.p. are indicative of adequate circulation while reduced or absent indicate poor perfusion\\r\\n\\r\\n  9:  mucous membranes\\r\\n          - a subjective measurement of colour\\r\\n          - possible values are:\\r\\n               1 = normal pink\\r\\n               2 = bright pink\\r\\n               3 = pale pink\\r\\n               4 = pale cyanotic\\r\\n               5 = bright red / injected\\r\\n               6 = dark cyanotic\\r\\n          - 1 and 2 probably indicate a normal or slightly increased circulation\\r\\n          - 3 may occur in early shock\\r\\n          - 4 and 6 are indicative of serious circulatory compromise\\r\\n          - 5 is more indicative of a septicemia\\r\\n\\r\\n 10: capillary refill time\\r\\n          - a clinical judgement. The longer the refill, the poorer the circulation\\r\\n          - possible values\\r\\n               1 = < 3 seconds\\r\\n               2 = >= 3 seconds\\r\\n\\r\\n 11: pain - a subjective judgement of the horse's pain level\\r\\n          - possible values:\\r\\n               1 = alert, no pain\\r\\n               2 = depressed\\r\\n               3 = intermittent mild pain\\r\\n               4 = intermittent severe pain\\r\\n               5 = continuous severe pain\\r\\n          - should NOT be treated as a ordered or discrete variable!\\r\\n          - In general, the more painful, the more likely it is to require surgery\\r\\n          - prior treatment of pain may mask the pain level to some extent\\r\\n\\r\\n 12: peristalsis                              \\r\\n          - an indication of the activity in the horse's gut. As the gut becomes more distended or the horse becomes more toxic, the activity decreases\\r\\n          - possible values:\\r\\n               1 = hypermotile\\r\\n               2 = normal\\r\\n               3 = hypomotile\\r\\n               4 = absent\\r\\n\\r\\n 13: abdominal distension\\r\\n          - An IMPORTANT parameter.\\r\\n          - possible values\\r\\n               1 = none\\r\\n               2 = slight\\r\\n               3 = moderate\\r\\n               4 = severe\\r\\n          - an animal with abdominal distension is likely to be painful and have reduced gut motility.\\r\\n          - a horse with severe abdominal distension is likely to require surgery just tio relieve the pressure\\r\\n\\r\\n 14: nasogastric tube\\r\\n          - this refers to any gas coming out of the tube\\r\\n          - possible values:\\r\\n               1 = none\\r\\n               2 = slight\\r\\n               3 = significant\\r\\n          - a large gas cap in the stomach is likely to give the horse discomfort\\r\\n\\r\\n 15: nasogastric reflux\\r\\n          - possible values\\r\\n               1 = none\\r\\n               2 = > 1 liter\\r\\n               3 = < 1 liter\\r\\n          - the greater amount of reflux, the more likelihood that there is some serious obstruction to the fluid passage from the rest of the intestine\\r\\n\\r\\n 16: nasogastric reflux PH\\r\\n          - linear\\r\\n          - scale is from 0 to 14 with 7 being neutral\\r\\n          - normal values are in the 3 to 4 range\\r\\n\\r\\n 17: rectal examination - feces\\r\\n          - possible values\\r\\n               1 = normal\\r\\n               2 = increased\\r\\n               3 = decreased\\r\\n               4 = absent\\r\\n          - absent feces probably indicates an obstruction\\r\\n\\r\\n 18: abdomen\\r\\n          - possible values\\r\\n               1 = normal\\r\\n               2 = other\\r\\n               3 = firm feces in the large intestine\\r\\n               4 = distended small intestine\\r\\n               5 = distended large intestine\\r\\n          - 3 is probably an obstruction caused by a mechanical impaction and is normally treated medically\\r\\n          - 4 and 5 indicate a surgical lesion\\r\\n\\r\\n 19: packed cell volume\\r\\n          - linear\\r\\n          - the # of red cells by volume in the blood\\r\\n          - normal range is 30 to 50. The level rises as the circulation becomes compromised or as the animal becomes dehydrated.\\r\\n\\r\\n 20: total protein\\r\\n          - linear\\r\\n          - normal values lie in the 6-7.5 (gms/dL) range\\r\\n          - the higher the value the greater the dehydration\\r\\n\\r\\n 21: abdominocentesis appearance\\r\\n          - a needle is put in the horse's abdomen and fluid is obtained from\\r\\n            the abdominal cavity\\r\\n          - possible values:\\r\\n               1 = clear\\r\\n               2 = cloudy\\r\\n               3 = serosanguinous\\r\\n          - normal fluid is clear while cloudy or serosanguinous indicates a compromised gut\\r\\n\\r\\n 22: abdomcentesis total protein\\r\\n          - linear\\r\\n          - the higher the level of protein the more likely it is to have a compromised gut. Values are in gms/dL\\r\\n\\r\\n 23: outcome\\r\\n          - what eventually happened to the horse?\\r\\n          - possible values:\\r\\n               1 = lived\\r\\n               2 = died\\r\\n               3 = was euthanized\\r\\n\\r\\n 24: surgical lesion?\\r\\n          - retrospectively, was the problem (lesion) surgical?\\r\\n          - all cases are either operated upon or autopsied so that this value and the lesion type are always known\\r\\n          - possible values:\\r\\n               1 = Yes\\r\\n               2 = No\\r\\n\\r\\n 25, 26, 27: type of lesion\\r\\n          - first number is site of lesion\\r\\n               1 = gastric\\r\\n               2 = sm intestine\\r\\n               3 = lg colon\\r\\n               4 = lg colon and cecum\\r\\n               5 = cecum\\r\\n               6 = transverse colon\\r\\n               7 = retum/descending colon\\r\\n               8 = uterus\\r\\n               9 = bladder\\r\\n               11 = all intestinal sites\\r\\n               00 = none\\r\\n          - second number is type\\r\\n               1 = simple\\r\\n               2 = strangulation\\r\\n               3 = inflammation\\r\\n               4 = other\\r\\n          - third number is subtype\\r\\n               1 = mechanical\\r\\n               2 = paralytic\\r\\n               0 = n/a\\r\\n          - fourth number is specific code\\r\\n               1 = obturation\\r\\n               2 = intrinsic\\r\\n               3 = extrinsic\\r\\n               4 = adynamic\\r\\n               5 = volvulus/torsion\\r\\n               6 = intussuption\\r\\n               7 = thromboembolic\\r\\n               8 = hernia\\r\\n               9 = lipoma/slenic incarceration\\r\\n               10 = displacement\\r\\n               0 = n/a\\r\\n 28: cp_data\\r\\n          - is pathology data present for this case?\\r\\n               1 = Yes\\r\\n               2 = No\\r\\n          - this variable is of no significance since pathology data is not included or collected for these cases\", 'citation': None}}\n",
      "                              name     role        type demographic  \\\n",
      "0                          surgery  Feature     Integer        None   \n",
      "1                              age  Feature     Integer         Age   \n",
      "2                  hospital_number  Feature     Integer        None   \n",
      "3               rectal_temperature  Feature  Continuous        None   \n",
      "4                            pulse  Feature     Integer        None   \n",
      "5                 respiratory_rate  Feature     Integer        None   \n",
      "6       temperature_of_extremities  Feature     Integer        None   \n",
      "7                 peripheral_pulse  Feature     Integer        None   \n",
      "8                 mucous_membranes  Feature     Integer        None   \n",
      "9            capillary_refill_time  Feature     Integer        None   \n",
      "10                            pain  Feature     Integer        None   \n",
      "11                     peristalsis  Feature     Integer        None   \n",
      "12            abdominal_distension  Feature     Integer        None   \n",
      "13                nasogastric_tube  Feature     Integer        None   \n",
      "14              nasogastric_reflux  Feature     Integer        None   \n",
      "15           nasogastric_reflux_ph  Feature  Continuous        None   \n",
      "16        rectal_examination_feces  Feature     Integer        None   \n",
      "17                         abdomen  Feature     Integer        None   \n",
      "18              packed_cell_volume  Feature     Integer        None   \n",
      "19                   total_protein  Feature     Integer        None   \n",
      "20     abdominocentesis_appearance  Feature     Integer        None   \n",
      "21  abdominocentesis_total_protein  Feature     Integer        None   \n",
      "22                         outcome  Feature     Integer        None   \n",
      "23                 surgical_lesion   Target     Integer        None   \n",
      "24                     lesion_site  Feature     Integer        None   \n",
      "25                     lesion_type  Feature     Integer        None   \n",
      "26                  lesion_subtype  Feature     Integer        None   \n",
      "27                         cp_data  Feature     Integer        None   \n",
      "\n",
      "   description units missing_values  \n",
      "0         None  None            yes  \n",
      "1         None  None             no  \n",
      "2         None  None             no  \n",
      "3         None  None            yes  \n",
      "4         None  None            yes  \n",
      "5         None  None            yes  \n",
      "6         None  None            yes  \n",
      "7         None  None            yes  \n",
      "8         None  None            yes  \n",
      "9         None  None            yes  \n",
      "10        None  None            yes  \n",
      "11        None  None            yes  \n",
      "12        None  None            yes  \n",
      "13        None  None            yes  \n",
      "14        None  None            yes  \n",
      "15        None  None            yes  \n",
      "16        None  None            yes  \n",
      "17        None  None            yes  \n",
      "18        None  None            yes  \n",
      "19        None  None            yes  \n",
      "20        None  None            yes  \n",
      "21        None  None            yes  \n",
      "22        None  None            yes  \n",
      "23        None  None             no  \n",
      "24        None  None             no  \n",
      "25        None  None             no  \n",
      "26        None  None             no  \n",
      "27        None  None             no  \n"
     ]
    }
   ],
   "source": [
    "from ucimlrepo import fetch_ucirepo \n",
    "  \n",
    "# fetch dataset \n",
    "horse_colic = fetch_ucirepo(id=47) \n",
    "  \n",
    "# data (as pandas dataframes) \n",
    "X = horse_colic.data.features \n",
    "y = horse_colic.data.targets \n",
    "  \n",
    "# metadata \n",
    "print(horse_colic.metadata) \n",
    "  \n",
    "# variable information \n",
    "print(horse_colic.variables) \n"
   ]
  },
  {
   "cell_type": "code",
   "execution_count": 45,
   "id": "d55747b3-08d7-41ec-a2f7-0d8194d596db",
   "metadata": {},
   "outputs": [
    {
     "data": {
      "text/html": [
       "<div>\n",
       "<style scoped>\n",
       "    .dataframe tbody tr th:only-of-type {\n",
       "        vertical-align: middle;\n",
       "    }\n",
       "\n",
       "    .dataframe tbody tr th {\n",
       "        vertical-align: top;\n",
       "    }\n",
       "\n",
       "    .dataframe thead th {\n",
       "        text-align: right;\n",
       "    }\n",
       "</style>\n",
       "<table border=\"1\" class=\"dataframe\">\n",
       "  <thead>\n",
       "    <tr style=\"text-align: right;\">\n",
       "      <th></th>\n",
       "      <th>surgery</th>\n",
       "      <th>age</th>\n",
       "      <th>hospital_number</th>\n",
       "      <th>rectal_temperature</th>\n",
       "      <th>pulse</th>\n",
       "      <th>respiratory_rate</th>\n",
       "      <th>temperature_of_extremities</th>\n",
       "      <th>peripheral_pulse</th>\n",
       "      <th>mucous_membranes</th>\n",
       "      <th>capillary_refill_time</th>\n",
       "      <th>...</th>\n",
       "      <th>abdomen</th>\n",
       "      <th>packed_cell_volume</th>\n",
       "      <th>total_protein</th>\n",
       "      <th>abdominocentesis_appearance</th>\n",
       "      <th>abdominocentesis_total_protein</th>\n",
       "      <th>outcome</th>\n",
       "      <th>lesion_site</th>\n",
       "      <th>lesion_type</th>\n",
       "      <th>lesion_subtype</th>\n",
       "      <th>cp_data</th>\n",
       "    </tr>\n",
       "  </thead>\n",
       "  <tbody>\n",
       "    <tr>\n",
       "      <th>65</th>\n",
       "      <td>1.0</td>\n",
       "      <td>1</td>\n",
       "      <td>534885</td>\n",
       "      <td>NaN</td>\n",
       "      <td>60.0</td>\n",
       "      <td>36.0</td>\n",
       "      <td>3.0</td>\n",
       "      <td>1.0</td>\n",
       "      <td>3.0</td>\n",
       "      <td>1.0</td>\n",
       "      <td>...</td>\n",
       "      <td>4.0</td>\n",
       "      <td>26.0</td>\n",
       "      <td>72.0</td>\n",
       "      <td>2.0</td>\n",
       "      <td>1.0</td>\n",
       "      <td>1.0</td>\n",
       "      <td>2208</td>\n",
       "      <td>0</td>\n",
       "      <td>0</td>\n",
       "      <td>2</td>\n",
       "    </tr>\n",
       "  </tbody>\n",
       "</table>\n",
       "<p>1 rows × 27 columns</p>\n",
       "</div>"
      ],
      "text/plain": [
       "    surgery  age  hospital_number  rectal_temperature  pulse  \\\n",
       "65      1.0    1           534885                 NaN   60.0   \n",
       "\n",
       "    respiratory_rate  temperature_of_extremities  peripheral_pulse  \\\n",
       "65              36.0                         3.0               1.0   \n",
       "\n",
       "    mucous_membranes  capillary_refill_time  ...  abdomen  packed_cell_volume  \\\n",
       "65               3.0                    1.0  ...      4.0                26.0   \n",
       "\n",
       "    total_protein  abdominocentesis_appearance  \\\n",
       "65           72.0                          2.0   \n",
       "\n",
       "    abdominocentesis_total_protein  outcome  lesion_site  lesion_type  \\\n",
       "65                             1.0      1.0         2208            0   \n",
       "\n",
       "    lesion_subtype  cp_data  \n",
       "65               0        2  \n",
       "\n",
       "[1 rows x 27 columns]"
      ]
     },
     "execution_count": 45,
     "metadata": {},
     "output_type": "execute_result"
    }
   ],
   "source": [
    "X.sample()"
   ]
  },
  {
   "cell_type": "code",
   "execution_count": 46,
   "id": "f9fd6cde-c7b4-411b-958e-e486ef95ba78",
   "metadata": {},
   "outputs": [
    {
     "data": {
      "text/html": [
       "<div>\n",
       "<style scoped>\n",
       "    .dataframe tbody tr th:only-of-type {\n",
       "        vertical-align: middle;\n",
       "    }\n",
       "\n",
       "    .dataframe tbody tr th {\n",
       "        vertical-align: top;\n",
       "    }\n",
       "\n",
       "    .dataframe thead th {\n",
       "        text-align: right;\n",
       "    }\n",
       "</style>\n",
       "<table border=\"1\" class=\"dataframe\">\n",
       "  <thead>\n",
       "    <tr style=\"text-align: right;\">\n",
       "      <th></th>\n",
       "      <th>surgical_lesion</th>\n",
       "    </tr>\n",
       "  </thead>\n",
       "  <tbody>\n",
       "    <tr>\n",
       "      <th>295</th>\n",
       "      <td>2</td>\n",
       "    </tr>\n",
       "  </tbody>\n",
       "</table>\n",
       "</div>"
      ],
      "text/plain": [
       "     surgical_lesion\n",
       "295                2"
      ]
     },
     "execution_count": 46,
     "metadata": {},
     "output_type": "execute_result"
    }
   ],
   "source": [
    "y.sample()"
   ]
  },
  {
   "cell_type": "code",
   "execution_count": 49,
   "id": "fecb72d0-6b77-41de-a6f4-5d3f1deca213",
   "metadata": {},
   "outputs": [],
   "source": [
    "\"\"\"\n",
    "该数据集还存在\n",
    "一个问题，数据集中有30%的数据值是缺失的。下面将首先介绍如何处理\n",
    "数据集中的数据缺失问题，然后再利用Logistic回归和随机梯度上升算法来\n",
    "预测病马的生死。\n",
    "\n",
    "\"\"\"\n",
    "# 5.3.1 准备数据：处理数据中的缺失值\n",
    "\"\"\"\n",
    "使用可用特征的均值来填补缺失值；\n",
    "使用特殊值来填补缺失值，如-1；\n",
    "忽略有缺失值的样本；\n",
    "使用相似样本的均值添补缺失值；\n",
    "使用另外的机器学习算法预测缺失值。\n",
    "\n",
    "预处理中做的第二件事是，如果在测试数据集中发现了一条数据的类别标\n",
    "签已经缺失，那么我们的简单做法是将该条数据丢弃。这是因为类别标签\n",
    "与特征不同，很难确定采用某个合适的值来替换。采用Logistic回归进行分\n",
    "类时这种做法是合理的，而如果采用类似kNN的方法就可能不太可行。\n",
    "\"\"\"\n",
    "# 5.3.2 测试算法：用Logistic回归进行分类\n",
    "def classifyVector(inX, weights):\n",
    "    prob = sigmoid(np.dot(inX, weights))\n",
    "    if prob > 0.5:\n",
    "        return 1.0\n",
    "    return 0.0\n",
    "\n",
    "# ---------------------- 2. 核心修改：用ucimlrepo获取数据，替代读本地txt ----------------------\n",
    "def colicTest():\n",
    "    # ❶ 从ucimlrepo获取马疝病数据集（ID=47）\n",
    "    # horse_colic = fetch_ucirepo(id=47)\n",
    "    \n",
    "    # ❷ 提取特征矩阵X和标签向量y，并做数据适配\n",
    "    # X：特征矩阵（368个样本，21个关键特征，排除原数据中无关的7个特征，与原txt的21个特征对应）\n",
    "    # 原数据集的28个特征中，前21个为核心特征（与原txt一致），后7个为冗余信息，故取前21列\n",
    "    X = horse_colic.data.features.iloc[:, :21].values  # 转换为numpy数组，shape=(368,21)\n",
    "    \n",
    "    # y：标签向量（原标签为1=存活、2=死亡，需转换为原代码的0=存活、1=死亡）\n",
    "    y = horse_colic.data.targets.values.flatten()  # 展平为1维数组，shape=(368,)\n",
    "    y = np.where(y == 2, 1, 0)  # 替换标签：2→1（死亡），1→0（存活），与原txt标签格式一致\n",
    "    \n",
    "    # ❸ 拆分训练集和测试集（替代原代码读两个txt文件）\n",
    "    # test_size=0.3：30%数据为测试集，70%为训练集，与原书中数据划分比例一致\n",
    "    # random_state=42：固定随机种子，确保每次运行拆分结果一致（便于复现）\n",
    "    trainingSet, testSet, trainingLabels, testLabels = train_test_split(\n",
    "        X, y, test_size=0.3, random_state=42\n",
    "    )\n",
    "    \n",
    "    # ❹ 用随机梯度上升训练权重（迭代500轮，与原代码参数一致）\n",
    "    trainWeights = stocGradAscent1(trainingSet, trainingLabels, numIter=500)\n",
    "    \n",
    "    # ❺ 用测试集计算误差率（逻辑与原代码完全一致）\n",
    "    errorCount = 0  # 错误预测的样本数\n",
    "    numTestVec = float(len(testSet))  # 测试集总样本数\n",
    "    \n",
    "    for i in range(len(testSet)):\n",
    "        # 对每个测试样本做分类，对比真实标签\n",
    "        predicted_label = classifyVector(testSet[i], trainWeights)\n",
    "        true_label = testLabels[i]\n",
    "        if int(predicted_label) != int(true_label):\n",
    "            errorCount += 1\n",
    "\n",
    "    # 计算并打印误差率\n",
    "    errorRate = errorCount / numTestVec\n",
    "    print(f\"the error rate of this test is: {errorRate:.6f}\")  # 保留6位小数，与原输出格式一致\n",
    "    return errorRate"
   ]
  },
  {
   "cell_type": "code",
   "execution_count": 50,
   "id": "ec40bcae-cdc1-4896-9b98-40267d5878c7",
   "metadata": {},
   "outputs": [
    {
     "name": "stdout",
     "output_type": "stream",
     "text": [
      "the error rate of this test is: 0.360360\n"
     ]
    },
    {
     "data": {
      "text/plain": [
       "0.36036036036036034"
      ]
     },
     "execution_count": 50,
     "metadata": {},
     "output_type": "execute_result"
    }
   ],
   "source": [
    "from sklearn.model_selection import train_test_split  # 用于拆分训练集/测试集（替代手动读txt）\n",
    "colicTest()"
   ]
  },
  {
   "cell_type": "code",
   "execution_count": 51,
   "id": "63bd01ac-c5d0-4709-88d1-fc805ed491c4",
   "metadata": {},
   "outputs": [],
   "source": [
    "def multiTest():\n",
    "    \"\"\"\n",
    "    多次运行马疝病预测测试，计算平均误差率\n",
    "    作用：通过多次试验降低随机因素（如样本拆分、梯度上升随机性）对误差率的影响，\n",
    "          得到更稳定的模型性能评估结果\n",
    "    \"\"\"\n",
    "    # 设置测试次数：进行10次独立测试\n",
    "    numTests = 10\n",
    "    # 初始化误差总和：用于累计10次测试的误差率\n",
    "    errorSum = 0.0\n",
    "    \n",
    "    # 循环执行numTests次测试（这里是10次）\n",
    "    for k in range(numTests):\n",
    "        # 调用colicTest()执行一次测试，返回当前测试的误差率，累加到误差总和中\n",
    "        errorSum += colicTest()\n",
    "    \n",
    "    # 计算并打印平均误差率\n",
    "    # 格式化输出：测试次数、平均误差率（保留6位小数）\n",
    "    print(\"after %d iterations the average error rate is: %f\" % (numTests, errorSum / numTests))"
   ]
  },
  {
   "cell_type": "code",
   "execution_count": 52,
   "id": "a3dd3d7c-bd2f-474d-b3f2-4f925554f2b8",
   "metadata": {},
   "outputs": [
    {
     "name": "stdout",
     "output_type": "stream",
     "text": [
      "the error rate of this test is: 0.360360\n",
      "the error rate of this test is: 0.360360\n",
      "the error rate of this test is: 0.360360\n",
      "the error rate of this test is: 0.360360\n",
      "the error rate of this test is: 0.360360\n",
      "the error rate of this test is: 0.360360\n",
      "the error rate of this test is: 0.360360\n",
      "the error rate of this test is: 0.360360\n",
      "the error rate of this test is: 0.360360\n",
      "the error rate of this test is: 0.360360\n",
      "after 10 iterations the average error rate is: 0.360360\n"
     ]
    }
   ],
   "source": [
    "multiTest()"
   ]
  },
  {
   "cell_type": "code",
   "execution_count": null,
   "id": "873d35e0-963a-4440-b591-9642dcc4f20a",
   "metadata": {},
   "outputs": [],
   "source": []
  }
 ],
 "metadata": {
  "kernelspec": {
   "display_name": "Python 3 (ipykernel)",
   "language": "python",
   "name": "python3"
  },
  "language_info": {
   "codemirror_mode": {
    "name": "ipython",
    "version": 3
   },
   "file_extension": ".py",
   "mimetype": "text/x-python",
   "name": "python",
   "nbconvert_exporter": "python",
   "pygments_lexer": "ipython3",
   "version": "3.10.18"
  }
 },
 "nbformat": 4,
 "nbformat_minor": 5
}
